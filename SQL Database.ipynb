{
 "cells": [
  {
   "cell_type": "code",
   "execution_count": null,
   "metadata": {
    "collapsed": true
   },
   "outputs": [],
   "source": [
    "#import Sqllite3 and relevant libraries\n",
    "import sqlite3\n",
    "import csv\n",
    "import pandas as pd\n",
    "\n",
    "conn = sqlite3.connect('bike.db')\n",
    "c = conn.cursor()"
   ]
  },
  {
   "cell_type": "code",
   "execution_count": null,
   "metadata": {
    "collapsed": true
   },
   "outputs": [],
   "source": [
    "#The dataset has been cleaned and organized. For each month in 2016 we have a csv with columns in the same ordering.\n",
    "#This function creates a skeleton database to be populated with the cleaned dataset.\n",
    "def create_database(conn):\n",
    "    \"\"\"\n",
    "    Using the database connection conn, create tables appropriate for \n",
    "    storing and using Bike data.  Drops any pre-exsiting tables that would be re-defined by this procedure.\n",
    "    \"\"\"\n",
    "    c = conn.cursor()\n",
    "    c.execute('''DROP TABLE IF EXISTS station''')\n",
    "    c.execute('''DROP TABLE IF EXISTS neighborhood''')\n",
    "    c.execute('''DROP TABLE IF EXISTS weather''')\n",
    "    c.execute('''DROP TABLE IF EXISTS fact_table''')\n",
    "    # Create database with tables.\n",
    "\n",
    "    c.execute('''\n",
    "           CREATE TABLE station(\n",
    "                station_id int,\n",
    "                station_name text,\n",
    "                station_latitude float,\n",
    "                station_longitude float,\n",
    "                station_neighborhood text,\n",
    "                PRIMARY KEY(station_id), \n",
    "                FOREIGN KEY(station_neighborhood) REFERENCES neighborhood(neighborhood))''')\n",
    "                \n",
    "    c.execute('''\n",
    "           CREATE TABLE neighborhood(\n",
    "                neighborhood text,\n",
    "                median_income int,\n",
    "                borough text,\n",
    "                PRIMARY KEY(neighborhood)) ''')\n",
    "    \n",
    "    c.execute('''\n",
    "            CREATE TABLE weather(\n",
    "                date text,\n",
    "                time int,\n",
    "                day int,\n",
    "                humidity int,\n",
    "                tempF int,\n",
    "                weatherDesc text,\n",
    "                windSpeedMiles int, \n",
    "                PRIMARY KEY(date, time) )''')\n",
    "    \n",
    "#Took out Date, Time, FOREIGN KEY(Date, Time) REFERENCES weather(Date, Time),\n",
    "\n",
    "    c.execute('''\n",
    "            CREATE TABLE fact_table(\n",
    "                bike_id int,\n",
    "                start_time,\n",
    "                stop_time,\n",
    "                start_station_id int,\n",
    "                start_station_neighborhood text,\n",
    "                end_station_id int,    \n",
    "                end_station_neighborhood text,\n",
    "                usertype text, \n",
    "                birth_year int, \n",
    "                gender int,\n",
    "                trip_duration int,\n",
    "                date,\n",
    "                time int,\n",
    "                PRIMARY KEY(bike_id, start_time, date),\n",
    "                FOREIGN KEY(date, time) REFERENCES weather(date, time),\n",
    "                FOREIGN KEY(start_station_id) REFERENCES station(station_id), \n",
    "                FOREIGN KEY(end_station_id) REFERENCES station(station_id),\n",
    "                FOREIGN KEY(start_station_neighborhood) REFERENCES neighborhood(neighborhood),\n",
    "                FOREIGN KEY(end_station_neighborhood) REFERENCES neighborhood(neighborhood))''') \n",
    "    # Commit all changes\n",
    "    conn.commit()\n",
    "    \n",
    "# Call the create_database() function\n",
    "create_database(conn)\n",
    "print('done')"
   ]
  },
  {
   "cell_type": "code",
   "execution_count": null,
   "metadata": {
    "collapsed": true
   },
   "outputs": [],
   "source": [
    "#This funciton populates the database with the cleaned bike csv's\n",
    "def populate_database(conn, csv_file):    \n",
    "    reader = csv.reader(open(csv_file, encoding='latin1'))\n",
    "    \n",
    "    # skip header    \n",
    "    next(reader, None)\n",
    "    # Convert row to lower case\n",
    "    for row in reader:\n",
    "        row = [item.lower() for item in row]\n",
    "        \n",
    "        #insert into station dimension tables\n",
    "        try:\n",
    "            c.execute('''\n",
    "                INSERT INTO station (station_id,\n",
    "                station_name,\n",
    "                station_latitude,\n",
    "                station_longitude,\n",
    "                station_neighborhood) VALUES (?,?,?,?,?)\n",
    "                ''', (row[1], row[2],row[3],row[4],row[23]))\n",
    "        except sqlite3.Error as e:\n",
    "            conn.commit()\n",
    "        \n",
    "        try:\n",
    "            c.execute('''\n",
    "                INSERT INTO station (station_id,\n",
    "                station_name,\n",
    "                station_latitude,\n",
    "                station_longitude,\n",
    "                station_neighborhood) VALUES (?,?,?,?,?)\n",
    "                ''', (row[5], row[6],row[7],row[8],row[26]))\n",
    "        except sqlite3.Error as e:\n",
    "            conn.commit()\n",
    "        \n",
    "        try:\n",
    "            c.execute('''\n",
    "                INSERT INTO neighborhood (neighborhood,\n",
    "                median_income,\n",
    "                borough) VALUES (?,?,?)\n",
    "                ''', (row[23], row[25],row[24]))\n",
    "        except sqlite3.Error as e:\n",
    "            conn.commit()\n",
    "      \n",
    "        try:\n",
    "            c.execute('''\n",
    "                INSERT INTO neighborhood (neighborhood,\n",
    "                median_income,\n",
    "                borough) VALUES (?,?,?)\n",
    "                ''', (row[26], row[28],row[27]))\n",
    "        except sqlite3.Error as e:\n",
    "            conn.commit()    \n",
    "        try:\n",
    "            c.execute(''' \n",
    "                INSERT INTO weather (\n",
    "                date,\n",
    "                time,\n",
    "                day,\n",
    "                humidity,\n",
    "                tempF,\n",
    "                weatherDesc,\n",
    "                windSpeedMiles) VALUES (?,?,?,?,?,?,?)\n",
    "            ''', (row[14],row[15],row[20],row[16],row[17],row[18],row[19]))\n",
    "        except sqlite3.Error as e:\n",
    "            conn.commit()\n",
    "\n",
    "        try:\n",
    "       \n",
    "            c.execute('''\n",
    "                INSERT INTO fact_table (bike_id,\n",
    "                date,\n",
    "                time,\n",
    "                start_time,\n",
    "                stop_time,\n",
    "                trip_duration,\n",
    "                start_station_id,\n",
    "                start_station_neighborhood,\n",
    "                end_station_id,    \n",
    "                end_station_neighborhood,\n",
    "                usertype, \n",
    "                birth_year, \n",
    "                gender) VALUES (?,?,?,?,?,?,?,?,?,?,?,?,?)''', \n",
    "                      (row[29],row[14],row[16], row[12], row[13], row[0], row[1], row[23], row[5], row[26], row[9],row[10], row[11],\n",
    "                       ))\n",
    "        except sqlite3.Error as e:\n",
    "#             print(\"fact_table, insert error:\", e.args[0])\n",
    "\n",
    "#     Commit to the connection in order to save the changes\n",
    "            conn.commit()    \n",
    "        \n",
    "        \n"
   ]
  },
  {
   "cell_type": "code",
   "execution_count": null,
   "metadata": {
    "collapsed": true
   },
   "outputs": [],
   "source": [
    "#For each month we populate the database\n",
    "populate_database(conn,'Income and Bike Id/april_med_bike_id.csv')"
   ]
  },
  {
   "cell_type": "code",
   "execution_count": null,
   "metadata": {},
   "outputs": [],
   "source": [
    "# Wanted to get a sense for roughly how long it would take to populate the DB\n",
    "import timeit\n",
    "start = timeit.default_timer()\n",
    "populate_database(conn,'Income and Bike Id/august_med_bike_id.csv')\n",
    "stop = timeit.default_timer()\n",
    "stop - start"
   ]
  },
  {
   "cell_type": "code",
   "execution_count": null,
   "metadata": {},
   "outputs": [],
   "source": [
    "start = timeit.default_timer()\n",
    "populate_database(conn,'Income and Bike Id/december_med_bike_id.csv')\n",
    "stop = timeit.default_timer()\n",
    "stop - start"
   ]
  },
  {
   "cell_type": "code",
   "execution_count": null,
   "metadata": {
    "collapsed": true
   },
   "outputs": [],
   "source": [
    "populate_database(conn,'Income and Bike Id/february_med_bike_id.csv')"
   ]
  },
  {
   "cell_type": "code",
   "execution_count": null,
   "metadata": {
    "collapsed": true
   },
   "outputs": [],
   "source": [
    "populate_database(conn,'Income and Bike Id/january_med_bike_id.csv')"
   ]
  },
  {
   "cell_type": "code",
   "execution_count": null,
   "metadata": {
    "collapsed": true
   },
   "outputs": [],
   "source": [
    "populate_database(conn,'Income and Bike Id/july_med_bike_id.csv')"
   ]
  },
  {
   "cell_type": "code",
   "execution_count": null,
   "metadata": {
    "collapsed": true
   },
   "outputs": [],
   "source": [
    "populate_database(conn,'Income and Bike Id/june_med_bike_id.csv')"
   ]
  },
  {
   "cell_type": "code",
   "execution_count": null,
   "metadata": {
    "collapsed": true
   },
   "outputs": [],
   "source": [
    "populate_database(conn,'Income and Bike Id/march_med_bike_id.csv')"
   ]
  },
  {
   "cell_type": "code",
   "execution_count": null,
   "metadata": {
    "collapsed": true
   },
   "outputs": [],
   "source": [
    "populate_database(conn,'Income and Bike Id/may_med_bike_id.csv')"
   ]
  },
  {
   "cell_type": "code",
   "execution_count": null,
   "metadata": {
    "collapsed": true
   },
   "outputs": [],
   "source": [
    "populate_database(conn,'Income and Bike Id/november_med_bike_id.csv')"
   ]
  },
  {
   "cell_type": "code",
   "execution_count": null,
   "metadata": {
    "collapsed": true
   },
   "outputs": [],
   "source": [
    "populate_database(conn,'Income and Bike Id/october_med_bike_id.csv')"
   ]
  },
  {
   "cell_type": "code",
   "execution_count": null,
   "metadata": {
    "collapsed": true
   },
   "outputs": [],
   "source": [
    "populate_database(conn,'Income and Bike Id/september_med_bike_id.csv')"
   ]
  },
  {
   "cell_type": "code",
   "execution_count": null,
   "metadata": {
    "collapsed": true
   },
   "outputs": [],
   "source": []
  },
  {
   "cell_type": "code",
   "execution_count": null,
   "metadata": {
    "collapsed": true
   },
   "outputs": [],
   "source": []
  },
  {
   "cell_type": "code",
   "execution_count": null,
   "metadata": {},
   "outputs": [],
   "source": [
    "#Some very basic queries to see that our DB was working.\n",
    "#Unfortunately queries from the factable were too much for the SQLlite to handle\n",
    "%reload_ext sql\n",
    "%sql sqlite:///bike.db"
   ]
  },
  {
   "cell_type": "code",
   "execution_count": null,
   "metadata": {},
   "outputs": [],
   "source": [
    "%%sql\n",
    "select * from fact_table \n",
    "where date = '2016-04-01'"
   ]
  },
  {
   "cell_type": "code",
   "execution_count": null,
   "metadata": {},
   "outputs": [],
   "source": [
    "%%sql\n",
    "SELECT * FROM weather\n",
    "where humidity = 92"
   ]
  },
  {
   "cell_type": "code",
   "execution_count": null,
   "metadata": {},
   "outputs": [],
   "source": [
    "%%sql\n",
    "SELECT * FROM neighborhood"
   ]
  },
  {
   "cell_type": "code",
   "execution_count": null,
   "metadata": {},
   "outputs": [],
   "source": [
    "%%sql\n",
    "select * from station\n",
    "where station_id = 254"
   ]
  }
 ],
 "metadata": {
  "kernelspec": {
   "display_name": "Python 3",
   "language": "python",
   "name": "python3"
  },
  "language_info": {
   "codemirror_mode": {
    "name": "ipython",
    "version": 3
   },
   "file_extension": ".py",
   "mimetype": "text/x-python",
   "name": "python",
   "nbconvert_exporter": "python",
   "pygments_lexer": "ipython3",
   "version": "3.6.3"
  }
 },
 "nbformat": 4,
 "nbformat_minor": 2
}
