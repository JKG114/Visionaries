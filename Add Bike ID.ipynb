{
 "cells": [
  {
   "cell_type": "code",
   "execution_count": null,
   "metadata": {
    "collapsed": true
   },
   "outputs": [],
   "source": [
    "# This was fun, after we originally populated our DB we dropped the bikeids column from our datasets when we\n",
    "# saved them as csvs. So, we had to readd them again using nearly raw data we got and cleaned from Citi Bike"
   ]
  },
  {
   "cell_type": "code",
   "execution_count": 33,
   "metadata": {
    "collapsed": true
   },
   "outputs": [],
   "source": [
    "import pandas as pd\n",
    "import geopandas as gpd\n",
    "import datetime "
   ]
  },
  {
   "cell_type": "code",
   "execution_count": 34,
   "metadata": {
    "collapsed": true
   },
   "outputs": [],
   "source": [
    "def date_changer(day):\n",
    "    return datetime.datetime.strptime(day, '%m/%d/%y').strftime('%Y-%m-%d')"
   ]
  },
  {
   "cell_type": "code",
   "execution_count": 35,
   "metadata": {},
   "outputs": [
    {
     "name": "stdout",
     "output_type": "stream",
     "text": [
      "Added IDs!\n"
     ]
    }
   ],
   "source": [
    "#Add April\n",
    "raw= pd.read_csv('Raw Bike/April_2016_Bike.csv')\n",
    "clean = pd.read_csv('Median Income Added/April_2016_MDincome.csv')\n",
    "\n",
    "#Keep the columns that uniquely identify each trip and show up in both dataframes and bikeid\n",
    "raw = raw[['tripduration','start station id', 'end station id', 'usertype','gender','birth year', 'bikeid', 'start_time', 'stop_time', 'start_date']]\n",
    "#rename this column so it is the same as the column in the dataframe 'clean'\n",
    "raw = raw.rename(columns={'start_date': 'Date'})\n",
    "\n",
    "bikeid = pd.merge(clean,raw)\n",
    "#If unique defined 'key' above is not in fact unique(it happens) there will be duplicates when you merge.\n",
    "#Drop the duplicates\n",
    "bikeid= bikeid.drop_duplicates()\n",
    "\n",
    "#Check that the new dataframe with the bikeids has the same length as 'clean' the dataframe you wanted to add\n",
    "#the id's to. If does, do some more housekeeping and make all the column titles lower case. Create new CSV\n",
    "bikeid = bikeid.reindex()\n",
    "if len(bikeid) == len(clean):\n",
    "    bikeid.columns = map(str.lower, bikeid.columns)\n",
    "    bikeid.to_csv('Income and Bike Id/april_med_bike_id.csv', index = False)\n",
    "    print('Added IDs!')\n",
    "else:\n",
    "    print('Help!')\n"
   ]
  },
  {
   "cell_type": "code",
   "execution_count": 36,
   "metadata": {},
   "outputs": [
    {
     "name": "stdout",
     "output_type": "stream",
     "text": [
      "Added IDs!\n"
     ]
    }
   ],
   "source": [
    "#Add August\n",
    "raw= pd.read_csv('Raw Bike/August_2016_Bike.csv')\n",
    "clean = pd.read_csv('Median Income Added/August_2016_MDincome.csv')\n",
    "\n",
    "#change format of date \n",
    "date = clean['date']\n",
    "clean['date'] =  date.apply(date_changer)\n",
    "\n",
    "raw = raw[['tripduration','start station id', 'end station id', 'usertype','gender','birth year', 'bikeid', 'start_time', 'stop_time', 'start_date']]\n",
    "raw = raw.rename(columns={'start_date': 'date'})\n",
    "\n",
    "bikeid = pd.merge(clean,raw)\n",
    "bikeid= bikeid.drop_duplicates()\n",
    "\n",
    "bikeid = bikeid.reindex()\n",
    "if len(bikeid) == len(clean):\n",
    "    bikeid.columns = map(str.lower, bikeid.columns)\n",
    "    bikeid.to_csv('Income and Bike Id/august_med_bike_id.csv', index = False)\n",
    "    print('Added IDs!')\n",
    "else:\n",
    "    print('Help!')"
   ]
  },
  {
   "cell_type": "code",
   "execution_count": 37,
   "metadata": {},
   "outputs": [
    {
     "name": "stdout",
     "output_type": "stream",
     "text": [
      "Added IDs!\n"
     ]
    }
   ],
   "source": [
    "#Add December\n",
    "raw= pd.read_csv('Raw Bike/December_2016_Bike.csv')\n",
    "clean = pd.read_csv('Median Income Added/December_2016_MDincome.csv')\n",
    "\n",
    "raw = raw[['Trip Duration','Start Station ID', 'End Station ID', 'User Type','Gender','Birth Year', 'Bike ID', 'start_time', 'stop_time', 'start_date']]\n",
    "raw = raw.rename(columns={'start_date': 'date'})\n",
    "\n",
    "raw.columns = [x.lower() for x in raw.columns]\n",
    "raw = raw.rename(columns={'bike id': 'bikeid'})\n",
    "\n",
    "bikeid = pd.merge(clean,raw)\n",
    "bikeid = bikeid.drop_duplicates()\n",
    "\n",
    "bikeid = bikeid.reindex()\n",
    "if len(bikeid) == len(clean):\n",
    "    bikeid.columns = map(str.lower, bikeid.columns)\n",
    "    #rename anomaly columms\n",
    "    bikeid = bikeid.rename(columns={'trip duration': 'tripduration'})\n",
    "    bikeid = bikeid.rename(columns={'user type': 'usertype'})\n",
    "    \n",
    "    bikeid.to_csv('Income and Bike Id/december_med_bike_id.csv', index = False)\n",
    "    print('Added IDs!')\n",
    "else:\n",
    "    print('Help!')\n"
   ]
  },
  {
   "cell_type": "code",
   "execution_count": 38,
   "metadata": {},
   "outputs": [
    {
     "name": "stdout",
     "output_type": "stream",
     "text": [
      "Added IDs!\n"
     ]
    }
   ],
   "source": [
    "#Add February\n",
    "raw= pd.read_csv('Raw Bike/February_2016_Bike.csv')\n",
    "clean = pd.read_csv('Median Income Added/February_2016_MDincome.csv')\n",
    "\n",
    "raw = raw[['tripduration','start station id', 'end station id', 'usertype','gender','birth year', 'bikeid', 'start_time', 'stop_time', 'start_date']]\n",
    "raw = raw.rename(columns={'start_date': 'date'})\n",
    "\n",
    "bikeid = pd.merge(clean,raw)\n",
    "bikeid = bikeid.drop_duplicates()\n",
    "\n",
    "bikeid = bikeid.reindex()\n",
    "if len(bikeid) == len(clean):\n",
    "    bikeid.columns = map(str.lower, bikeid.columns)\n",
    "    bikeid.to_csv('Income and Bike Id/february_med_bike_id.csv', index = False)\n",
    "    print('Added IDs!')\n",
    "else:\n",
    "    print('Help!')"
   ]
  },
  {
   "cell_type": "code",
   "execution_count": 39,
   "metadata": {},
   "outputs": [
    {
     "name": "stdout",
     "output_type": "stream",
     "text": [
      "Added IDs!\n"
     ]
    }
   ],
   "source": [
    "#Add January\n",
    "raw= pd.read_csv('Raw Bike/January_2016_Bike.csv')\n",
    "clean = pd.read_csv('Median Income Added/January_2016_MDincome.csv')\n",
    "\n",
    "raw = raw[['tripduration','start station id', 'end station id', 'usertype','gender','birth year', 'bikeid', 'start_time', 'stop_time', 'start_date']]\n",
    "raw = raw.rename(columns={'start_date': 'date'})\n",
    "\n",
    "bikeid = pd.merge(clean,raw)\n",
    "bikeid = bikeid.drop_duplicates()\n",
    "\n",
    "bikeid = bikeid.reindex()\n",
    "if len(bikeid) == len(clean):\n",
    "    bikeid.columns = map(str.lower, bikeid.columns)\n",
    "    bikeid.to_csv('Income and Bike Id/january_med_bike_id.csv', index = False)\n",
    "    print('Added IDs!')\n",
    "else:\n",
    "    print('Help!')"
   ]
  },
  {
   "cell_type": "code",
   "execution_count": 40,
   "metadata": {},
   "outputs": [
    {
     "name": "stdout",
     "output_type": "stream",
     "text": [
      "Added IDs!\n"
     ]
    }
   ],
   "source": [
    "#Add June\n",
    "raw= pd.read_csv('Raw Bike/June_2016_Bike.csv')\n",
    "clean = pd.read_csv('Median Income Added/June_2016_MDincome.csv')\n",
    "\n",
    "raw = raw[['tripduration','start station id', 'end station id', 'usertype','gender','birth year', 'bikeid', 'start_time', 'stop_time', 'start_date']]\n",
    "raw = raw.rename(columns={'start_date': 'date'})\n",
    "\n",
    "bikeid = pd.merge(clean,raw)\n",
    "bikeid= bikeid.drop_duplicates()\n",
    "\n",
    "bikeid = bikeid.reindex()\n",
    "if len(bikeid) == len(clean):\n",
    "    bikeid.columns = map(str.lower, bikeid.columns)\n",
    "    bikeid.to_csv('Income and Bike Id/june_med_bike_id.csv', index = False)\n",
    "    print('Added IDs!')\n",
    "else:\n",
    "    print('Help!')"
   ]
  },
  {
   "cell_type": "code",
   "execution_count": 41,
   "metadata": {},
   "outputs": [
    {
     "name": "stdout",
     "output_type": "stream",
     "text": [
      "Added IDs!\n"
     ]
    }
   ],
   "source": [
    "#Add July\n",
    "raw= pd.read_csv('Raw Bike/July_2016_Bike.csv')\n",
    "clean = pd.read_csv('Median Income Added/July_2016_MDincome.csv')\n",
    "\n",
    "raw = raw[['tripduration','start station id', 'end station id', 'usertype','gender','birth year', 'bikeid', 'start_time', 'stop_time', 'start_date']]\n",
    "raw = raw.rename(columns={'start_date': 'date'})\n",
    "\n",
    "bikeid = pd.merge(clean,raw)\n",
    "bikeid= bikeid.drop_duplicates()\n",
    "\n",
    "bikeid = bikeid.reindex()\n",
    "if len(bikeid) == len(clean):\n",
    "    bikeid.columns = map(str.lower, bikeid.columns)\n",
    "    bikeid.to_csv('Income and Bike Id/july_med_bike_id.csv', index = False)\n",
    "    print('Added IDs!')\n",
    "else:\n",
    "    print('Help!')"
   ]
  },
  {
   "cell_type": "code",
   "execution_count": 42,
   "metadata": {},
   "outputs": [
    {
     "name": "stdout",
     "output_type": "stream",
     "text": [
      "Added IDs!\n"
     ]
    }
   ],
   "source": [
    "#Add March\n",
    "raw= pd.read_csv('Raw Bike/March_2016_Bike.csv')\n",
    "clean = pd.read_csv('Median Income Added/March_2016_MDincome.csv')\n",
    "\n",
    "raw = raw[['tripduration','start station id', 'end station id', 'usertype','gender','birth year', 'bikeid', 'start_time', 'stop_time', 'start_date']]\n",
    "raw = raw.rename(columns={'start_date': 'date'})\n",
    "\n",
    "bikeid = pd.merge(clean,raw)\n",
    "bikeid = bikeid.drop_duplicates()\n",
    "\n",
    "bikeid = bikeid.reindex()\n",
    "if len(bikeid) == len(clean):\n",
    "    bikeid.columns = map(str.lower, bikeid.columns)\n",
    "    bikeid.to_csv('Income and Bike Id/march_med_bike_id.csv', index = False)\n",
    "    print('Added IDs!')\n",
    "else:\n",
    "    print('Help!')"
   ]
  },
  {
   "cell_type": "code",
   "execution_count": 43,
   "metadata": {},
   "outputs": [
    {
     "name": "stdout",
     "output_type": "stream",
     "text": [
      "Added IDs!\n"
     ]
    }
   ],
   "source": [
    "#Add May\n",
    "raw= pd.read_csv('Raw Bike/May_2016_Bike.csv')\n",
    "clean = pd.read_csv('Median Income Added/May_2016_MDincome.csv')\n",
    "\n",
    "raw = raw[['tripduration','start station id', 'end station id', 'usertype','gender','birth year', 'bikeid', 'start_time', 'stop_time', 'start_date']]\n",
    "raw = raw.rename(columns={'start_date': 'date'})\n",
    "\n",
    "bikeid = pd.merge(clean,raw)\n",
    "bikeid = bikeid.drop_duplicates()\n",
    "\n",
    "bikeid = bikeid.reindex()\n",
    "if len(bikeid) == len(clean):\n",
    "    bikeid.columns = map(str.lower, bikeid.columns)\n",
    "    bikeid.to_csv('Income and Bike Id/may_med_bike_id.csv', index = False)\n",
    "    print('Added IDs!')\n",
    "else:\n",
    "    print('Help!')"
   ]
  },
  {
   "cell_type": "code",
   "execution_count": 44,
   "metadata": {},
   "outputs": [
    {
     "name": "stdout",
     "output_type": "stream",
     "text": [
      "Added IDs!\n"
     ]
    }
   ],
   "source": [
    "#Add November\n",
    "raw= pd.read_csv('Raw Bike/November_2016_Bike.csv')\n",
    "clean = pd.read_csv('Median Income Added/November_2016_MDincome.csv')\n",
    "\n",
    "raw = raw[['tripduration','start station id', 'end station id', 'usertype','gender','birth year', 'bikeid', 'start_time', 'stop_time', 'start_date']]\n",
    "raw = raw.rename(columns={'start_date': 'date'})\n",
    "\n",
    "bikeid = pd.merge(clean,raw)\n",
    "bikeid = bikeid.drop_duplicates()\n",
    "\n",
    "bikeid = bikeid.reindex()\n",
    "if len(bikeid) == len(clean):\n",
    "    bikeid.columns = map(str.lower, bikeid.columns)\n",
    "    bikeid.to_csv('Income and Bike Id/november_med_bike_id.csv', index = False)\n",
    "    print('Added IDs!')\n",
    "else:\n",
    "    print('Help!')"
   ]
  },
  {
   "cell_type": "code",
   "execution_count": 45,
   "metadata": {},
   "outputs": [
    {
     "name": "stdout",
     "output_type": "stream",
     "text": [
      "Added IDs!\n"
     ]
    }
   ],
   "source": [
    "#Add October & Remove Geomoetry Columns\n",
    "raw= pd.read_csv('Raw Bike/October_2016_Bike.csv')\n",
    "clean = pd.read_csv('Median Income Added/October_2016_MDincome.csv')\n",
    "\n",
    "#Drop Geometry column\n",
    "clean = clean.drop('geometry', axis=1)\n",
    "\n",
    "\n",
    "raw = raw[['tripduration','start station id', 'end station id', 'usertype','gender','birth year', 'bikeid', 'start_time', 'stop_time', 'start_date']]\n",
    "raw = raw.rename(columns={'start_date': 'date'})\n",
    "\n",
    "bikeid = pd.merge(clean,raw)\n",
    "bikeid = bikeid.drop_duplicates()\n",
    "\n",
    "bikeid = bikeid.reindex()\n",
    "if len(bikeid) == len(clean):\n",
    "    bikeid.columns = map(str.lower, bikeid.columns)\n",
    "    bikeid.to_csv('Income and Bike Id/october_med_bike_id.csv', index = False)\n",
    "    print('Added IDs!')\n",
    "else:\n",
    "    print('Help!')"
   ]
  },
  {
   "cell_type": "code",
   "execution_count": 46,
   "metadata": {},
   "outputs": [
    {
     "name": "stdout",
     "output_type": "stream",
     "text": [
      "Added IDs!\n"
     ]
    }
   ],
   "source": [
    "#Add September\n",
    "raw= pd.read_csv('Raw Bike/September_2016_Bike.csv')\n",
    "clean = pd.read_csv('Median Income Added/September_2016_MDincome.csv')\n",
    "\n",
    "# #change format of date \n",
    "# date = clean['date']\n",
    "# clean['date'] =  date.apply(date_changer)\n",
    "\n",
    "raw = raw[['tripduration','start station id', 'end station id', 'usertype','gender','birth year', 'bikeid', 'start_time', 'stop_time', 'start_date']]\n",
    "raw = raw.rename(columns={'start_date': 'date'})\n",
    "\n",
    "bikeid = pd.merge(clean,raw)\n",
    "bikeid= bikeid.drop_duplicates()\n",
    "\n",
    "bikeid = bikeid.reindex()\n",
    "if len(bikeid) == len(clean):\n",
    "    bikeid.columns = map(str.lower, bikeid.columns)\n",
    "    bikeid.to_csv('Income and Bike Id/september_med_bike_id.csv', index = False)\n",
    "    print('Added IDs!')\n",
    "else:\n",
    "    print('Help!')"
   ]
  }
 ],
 "metadata": {
  "kernelspec": {
   "display_name": "Python 3",
   "language": "python",
   "name": "python3"
  },
  "language_info": {
   "codemirror_mode": {
    "name": "ipython",
    "version": 3
   },
   "file_extension": ".py",
   "mimetype": "text/x-python",
   "name": "python",
   "nbconvert_exporter": "python",
   "pygments_lexer": "ipython3",
   "version": "3.6.3"
  }
 },
 "nbformat": 4,
 "nbformat_minor": 2
}
