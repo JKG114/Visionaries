{
 "cells": [
  {
   "cell_type": "code",
   "execution_count": 1,
   "metadata": {
    "collapsed": true
   },
   "outputs": [],
   "source": [
    "import ipywidgets as ip\n",
    "import geopandas as gpd\n",
    "from ipywidgets import interact\n",
    "from ipywidgets import widgets\n",
    "import matplotlib.pyplot as plt\n",
    "from shapely.geometry import Point\n",
    "import numpy as np\n",
    "import pandas as pd\n",
    "from sklearn.externals import joblib\n"
   ]
  },
  {
   "cell_type": "code",
   "execution_count": 2,
   "metadata": {
    "collapsed": true
   },
   "outputs": [],
   "source": [
    "#Read in csv's containing information and keys for users, weather description, stations, boroughs, and neighborhoods. \n",
    "user_total=pd.read_csv('User_Code.csv')\n",
    "weather_total=pd.read_csv('Weather_Code.csv')\n",
    "stations=pd.read_csv('Station_List_With_Info.csv')\n",
    "borough_total=pd.read_csv('Borough_Code.csv')\n",
    "neighborhood_total=pd.read_csv('Neighborhood_Code.csv')\n",
    "\n"
   ]
  },
  {
   "cell_type": "code",
   "execution_count": 3,
   "metadata": {
    "collapsed": true
   },
   "outputs": [],
   "source": [
    "#Read in Machine Learning Model\n",
    "test_tree = joblib.load('random_forest_bruce.pkl')\n",
    "station_names=set(stations['start station name'])\n",
    "weather_slider=set(weather_total['0'])"
   ]
  },
  {
   "cell_type": "code",
   "execution_count": 4,
   "metadata": {
    "collapsed": true
   },
   "outputs": [],
   "source": [
    "#Helper Functions\n",
    "#Retrieve list of station characteristics from a stations dataframe. \n",
    "def station_values(station_name):\n",
    "    station_entry=stations[stations['start station name']==station_name]\n",
    "    stations_column=list(station_entry.iloc[0])\n",
    "    return(stations_column[1:])\n",
    "#Convert usertype to numeric (0,1)\n",
    "def user_find(user):\n",
    "    user_entry=user_total[user_total['0']==user].iloc[0]\n",
    "    return(user_entry[0])\n",
    "#Convert weather description to numeric (according to csv)\n",
    "def weather(weather_desc):\n",
    "    weather_entry=weather_total[weather_total['0']==weather_desc].iloc[0]\n",
    "    return(weather_entry[0])\n",
    "#Convering gender to numeric (0,1)\n",
    "def gender_desc(gender):\n",
    "    if gender=='Male':\n",
    "        return(0)\n",
    "    elif gender=='Female':\n",
    "        return(1)\n",
    "#Convert neighborhood number to actual name (for maps)\n",
    "def neighborhood_name(hood_number):\n",
    "    hood_entry=neighborhood_total.iloc[hood_number,1]\n",
    "    return(hood_entry)\n",
    "\n",
    "#Plotting neighborhoods in NYC map. \n",
    "def plot_hood(hood, bood, base_color = 'tan', hood_color = 'red'):\n",
    "    # Neighborhood Tabulation Area (Census tract Stuff)\n",
    "    #Note, this is the location of nynta on Jesse's Computer, this shape file\n",
    "    # is available on drop box in the census map folder\n",
    "\n",
    "    fname = \"nynta.shp\"\n",
    "    coord_system = {'init': 'epsg:4326'}\n",
    "    \n",
    "    #Create a geopandas file with boroughs of interest. \n",
    "    ntas = gpd.read_file(fname).to_crs(coord_system)\n",
    "    ntas = ntas.loc[ntas['BoroName'].isin(['Queens','Brooklyn', 'Manhattan'])]\n",
    "    ntas=ntas.reset_index(drop=True)\n",
    "    ntas.rename(columns={'NTAName': 'Neighborhood'}, inplace = True)\n",
    "    \n",
    "    # Create base map of three boroughs with NTA neighborhoods\n",
    "    base = ntas.plot(figsize=(500,20), color= base_color, edgecolor='black')\n",
    "    \n",
    "    #create a map of the borough passed as 'hood' on top of the above base map\n",
    "    z = ntas.loc[ntas['Neighborhood'] == hood]\n",
    "    y=ntas.loc[ntas['Neighborhood'] == bood]\n",
    "    z.plot(ax = base, figsize=(500,20), color=hood_color, edgecolor='black')\n",
    "    y.plot(ax = base, figsize=(500,20), color='blue', edgecolor='black')\n",
    "\n",
    "    #plot it. \n",
    "    plt.show()"
   ]
  },
  {
   "cell_type": "code",
   "execution_count": 5,
   "metadata": {
    "collapsed": true
   },
   "outputs": [],
   "source": [
    "#Predicting the End stations, by converting the entered data into the train format, then running it through the ML model.\n",
    "#The model then outputs a neighborhood, which is then fed into a map for a visualization of where one will go.\n",
    "def predict_end_station(start_station,usertype,birth_year,gender,time,humidity,temp,weatherdesc,windspeed,day):\n",
    "    station_list=station_values(start_station)\n",
    "    station_id=station_list[0]\n",
    "    station_latitude=station_list[2]\n",
    "    station_longitude=station_list[3]\n",
    "    station_neighborhood=station_list[4]\n",
    "    station_income=station_list[5]\n",
    "    station_borough=station_list[6]\n",
    "    user=user_find(usertype)\n",
    "    weather_desc=weather(weatherdesc)\n",
    "    gender=gender_desc(gender)\n",
    "    enter_list=[station_id,station_latitude,station_longitude,user,birth_year,gender,time\n",
    "               ,humidity,temp,weather_desc,windspeed,day,station_neighborhood,\n",
    "               station_borough,station_income]\n",
    "    enter_np=np.array(enter_list)\n",
    "    enter_np=enter_np.reshape(1,-1)\n",
    "    prediction=test_tree.predict(enter_np)\n",
    "    prediction_int=int(prediction)\n",
    "    start_neighborhood_string=neighborhood_name(int(station_neighborhood))\n",
    "    end_neighborhood_string=neighborhood_name(prediction_int)\n",
    "    plot_hood(end_neighborhood_string,start_neighborhood_string)\n",
    "    print(start_neighborhood_string, ' (Blue) to',end_neighborhood_string, '(Red)')"
   ]
  },
  {
   "cell_type": "code",
   "execution_count": 6,
   "metadata": {},
   "outputs": [
    {
     "name": "stderr",
     "output_type": "stream",
     "text": [
      "Widget Javascript not detected.  It may not be installed or enabled properly.\n"
     ]
    },
    {
     "data": {
      "application/vnd.jupyter.widget-view+json": {
       "model_id": "e51d6da607c64683b1426eec22b78045"
      }
     },
     "metadata": {},
     "output_type": "display_data"
    },
    {
     "data": {
      "text/plain": [
       "<function __main__.predict_end_station>"
      ]
     },
     "execution_count": 6,
     "metadata": {},
     "output_type": "execute_result"
    }
   ],
   "source": [
    "#Create interactive Widget interface\n",
    "interact(predict_end_station, start_station=station_names, birth_year=widgets.IntSlider(min=1900,max=2010,step=1,value=1950),gender=['Male','Female']\n",
    "        , usertype=['Customer','Subscriber'], time=widgets.IntSlider(min=0,max=2300,step=100,value=600), humidity=widgets.IntSlider(min=0,max=100,step=1,value=50)\n",
    "        , temp=widgets.IntSlider(min=-20,max=100,step=1,value=50), weatherdesc=weather_slider,\n",
    "        windspeed=widgets.IntSlider(min=0,max=50,step=1,value=20),day=[0,1,2,3,4,5,6])"
   ]
  }
 ],
 "metadata": {
  "kernelspec": {
   "display_name": "Python 3",
   "language": "python",
   "name": "python3"
  },
  "language_info": {
   "codemirror_mode": {
    "name": "ipython",
    "version": 3
   },
   "file_extension": ".py",
   "mimetype": "text/x-python",
   "name": "python",
   "nbconvert_exporter": "python",
   "pygments_lexer": "ipython3",
   "version": "3.6.1"
  }
 },
 "nbformat": 4,
 "nbformat_minor": 2
}
