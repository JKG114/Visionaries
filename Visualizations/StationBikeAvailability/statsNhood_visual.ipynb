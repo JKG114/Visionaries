{
 "cells": [
  {
   "cell_type": "code",
   "execution_count": 12,
   "metadata": {
    "collapsed": true,
    "extensions": {
     "jupyter_dashboards": {
      "version": 1,
      "views": {
       "grid_default": {
        "col": 0,
        "height": 27,
        "hidden": true,
        "row": 0,
        "width": 4
       },
       "report_default": {
        "hidden": true
       }
      }
     }
    }
   },
   "outputs": [],
   "source": [
    "import pandas as pd\n",
    "from bestStations import getDelta \n",
    "from ipywidgets import widgets\n",
    "from IPython.display import display\n",
    "import folium"
   ]
  },
  {
   "cell_type": "code",
   "execution_count": 13,
   "metadata": {
    "collapsed": true,
    "extensions": {
     "jupyter_dashboards": {
      "version": 1,
      "views": {
       "grid_default": {
        "hidden": true
       },
       "report_default": {
        "hidden": true
       }
      }
     }
    }
   },
   "outputs": [],
   "source": [
    "# Parse neighborhoods file, sort it alphabetically\n",
    "neighbourhoods = pd.read_csv('./neighbourhoods.csv')\n",
    "neighbourhoods = neighbourhoods.sort_values(['neighbourhood'])\n",
    "# print(neighbourhoods);\n",
    "\n",
    "# Prepare it to populate dropdown as \"Midtown\":11 style.. \n",
    "# User can selecft Midtown but selecting value will be integer 11\n",
    "nhoods = {}\n",
    "for i in range(len(neighbourhoods)):\n",
    "    nhoods[neighbourhoods.iloc[i]['neighbourhood']] = neighbourhoods.iloc[i]['id']\n",
    "# print(dict)\n"
   ]
  },
  {
   "cell_type": "code",
   "execution_count": 14,
   "metadata": {
    "collapsed": true,
    "extensions": {
     "jupyter_dashboards": {
      "version": 1,
      "views": {
       "grid_default": {
        "hidden": true
       },
       "report_default": {
        "hidden": true
       }
      }
     }
    }
   },
   "outputs": [],
   "source": [
    "# A common layout object to be used by dropdowns, etc..\n",
    "form_item_layout = widgets.Layout(\n",
    "    display='flex',\n",
    "    flex_flow='row',\n",
    "    justify_content='space-between'\n",
    ")"
   ]
  },
  {
   "cell_type": "code",
   "execution_count": 15,
   "metadata": {
    "collapsed": true,
    "extensions": {
     "jupyter_dashboards": {
      "version": 1,
      "views": {
       "grid_default": {
        "col": 0,
        "height": 3,
        "hidden": true,
        "row": 0,
        "width": 4
       },
       "report_default": {
        "hidden": true
       }
      }
     }
    }
   },
   "outputs": [],
   "source": [
    "# Dropdown to select a nhood\n",
    "wNhood = widgets.Dropdown(\n",
    "    options = nhoods,\n",
    "    description='Neighbourhood ',\n",
    "    disabled=False,\n",
    "    value=11,\n",
    "    layout = form_item_layout\n",
    ")\n",
    "# display(wNhood)"
   ]
  },
  {
   "cell_type": "code",
   "execution_count": 16,
   "metadata": {
    "collapsed": true,
    "extensions": {
     "jupyter_dashboards": {
      "version": 1,
      "views": {
       "grid_default": {
        "hidden": true
       },
       "report_default": {
        "hidden": true
       }
      }
     }
    }
   },
   "outputs": [],
   "source": [
    "# Dropdown to select a day\n",
    "wDay = widgets.Dropdown(\n",
    "    options = {\"Monday\":0, \"Tuesday\":1, \"Wednesday\":2, \"Thursday\":3, \"Friday\":4, \"Saturday\":5, \"Sunday\":6},\n",
    "    description='Day ',\n",
    "    disabled=False,\n",
    "    layout = form_item_layout )\n",
    "# display(wNhood)"
   ]
  },
  {
   "cell_type": "code",
   "execution_count": 17,
   "metadata": {
    "collapsed": true,
    "extensions": {
     "jupyter_dashboards": {
      "version": 1,
      "views": {
       "grid_default": {
        "col": 0,
        "height": 4,
        "hidden": true,
        "row": 0,
        "width": 4
       },
       "report_default": {
        "hidden": true
       }
      }
     }
    }
   },
   "outputs": [],
   "source": [
    "# Slider to select an hour\n",
    "wHour = widgets.IntSlider(max = 23, value=10, description=\"Hour \", \n",
    "                          layout = form_item_layout )\n",
    "\n",
    "wHour.style.handle_color = 'lightgreen'\n",
    "# display(wHour)"
   ]
  },
  {
   "cell_type": "code",
   "execution_count": 18,
   "metadata": {
    "collapsed": true,
    "extensions": {
     "jupyter_dashboards": {
      "version": 1,
      "views": {
       "grid_default": {
        "col": 4,
        "height": 52,
        "hidden": true,
        "row": 0,
        "width": 7
       },
       "report_default": {
        "hidden": true
       }
      }
     }
    }
   },
   "outputs": [],
   "source": [
    "# Output console to print results\n",
    "wOut = widgets.Output()\n",
    "# display(wOut)"
   ]
  },
  {
   "cell_type": "code",
   "execution_count": 19,
   "metadata": {
    "collapsed": true,
    "extensions": {
     "jupyter_dashboards": {
      "version": 1,
      "views": {
       "grid_default": {
        "hidden": true
       },
       "report_default": {
        "hidden": true
       }
      }
     }
    }
   },
   "outputs": [],
   "source": [
    "# Output to display a map\n",
    "wMap = widgets.Output()"
   ]
  },
  {
   "cell_type": "code",
   "execution_count": 20,
   "metadata": {
    "collapsed": true,
    "extensions": {
     "jupyter_dashboards": {
      "version": 1,
      "views": {
       "grid_default": {
        "hidden": true
       },
       "report_default": {
        "hidden": true
       }
      }
     }
    }
   },
   "outputs": [],
   "source": [
    "# Function to run when User presses the button\n",
    "def getResults(sender):\n",
    "    print(\"Finding: \", wNhood.value, wDay.value, wHour.value)\n",
    "    \n",
    "    # run the delta with user input \n",
    "    best = getDelta(wNhood.value, wDay.value, wHour.value, 10000)\n",
    "    \n",
    "    # Create NYC map, add top-k stations as markers\n",
    "    NYC_COORDINATES = (40.760368, -73.985181)\n",
    "    m = folium.Map(location = NYC_COORDINATES, zoom_start=13)\n",
    "    top = 0;\n",
    "    for station in best.itertuples():\n",
    "        #  station[1] is delta as pop up\n",
    "        delta = station[1]\n",
    "        \n",
    "        # Select color\n",
    "        color = 'blue'\n",
    "        if(top < 5):\n",
    "            color = 'green'\n",
    "            top += 1  \n",
    "        if(delta < 0):\n",
    "            color = 'red'\n",
    "            \n",
    "        # Add marker station[2] and station[3] are x, y values and \n",
    "        folium.Marker([ station[2], station[3]], popup=str(station[1]), icon=folium.Icon(color)).add_to(m)\n",
    "    \n",
    "    # Clear and print results\n",
    "    wOut.clear_output()\n",
    "    with wOut:\n",
    "        print(best)\n",
    "    \n",
    "    # Clear and map results\n",
    "    wMap.clear_output()\n",
    "    with wMap:\n",
    "        display(m)\n"
   ]
  },
  {
   "cell_type": "code",
   "execution_count": 21,
   "metadata": {
    "collapsed": true,
    "extensions": {
     "jupyter_dashboards": {
      "version": 1,
      "views": {
       "grid_default": {
        "col": 0,
        "height": 8,
        "hidden": true,
        "row": 0,
        "width": 4
       },
       "report_default": {
        "hidden": true
       }
      }
     }
    }
   },
   "outputs": [],
   "source": [
    "wButton = widgets.Button(description=\"Find Stations!\"\n",
    "                        ,layout = widgets.Layout(width='150px', height='50px')) #form_item_layout)\n",
    "# wButton.style.button_color = 'lightgreen'\n",
    "wButton.button_style = \"info\"\n",
    "wButton.on_click(getResults)\n",
    "# display(wButton)"
   ]
  },
  {
   "cell_type": "code",
   "execution_count": 22,
   "metadata": {
    "extensions": {
     "jupyter_dashboards": {
      "version": 1,
      "views": {
       "grid_default": {
        "col": 0,
        "height": 27,
        "hidden": false,
        "row": 0,
        "width": 12
       },
       "report_default": {
        "hidden": false
       }
      }
     }
    },
    "scrolled": true
   },
   "outputs": [
    {
     "data": {
      "application/vnd.jupyter.widget-view+json": {
       "model_id": "3709807e05fc480d868df31f143748ec"
      }
     },
     "metadata": {},
     "output_type": "display_data"
    },
    {
     "name": "stdout",
     "output_type": "stream",
     "text": [
      "Finding:  11 0 10\n"
     ]
    }
   ],
   "source": [
    "box_layout = widgets.Layout(\n",
    "    display='flex',\n",
    "    flex_flow='column',\n",
    "    border='solid 2px',\n",
    "    align_items='center', #flex-start, flex-end, center, baseline, stretch\n",
    "    width='40%')\n",
    "\n",
    "top_box = widgets.HBox([wNhood, wDay, wHour, wButton])\n",
    "# layout = box_layout)\n",
    "\n",
    "tab = widgets.Tab()\n",
    "tab.children = [widgets.VBox([top_box, wMap, wOut])]\n",
    "# widgets.HBox([left_box, wOut, wMap])]\n",
    "tab.set_title(0, \"Best Stations\")\n",
    "# tab.set_title(1, \"XX\")\n",
    "\n",
    "tab"
   ]
  }
 ],
 "metadata": {
  "extensions": {
   "jupyter_dashboards": {
    "activeView": "report_default",
    "version": 1,
    "views": {
     "grid_default": {
      "cellMargin": 10,
      "defaultCellHeight": 20,
      "maxColumns": 12,
      "name": "grid",
      "type": "grid"
     },
     "report_default": {
      "name": "report",
      "type": "report"
     }
    }
   }
  },
  "kernelspec": {
   "display_name": "Python 3",
   "language": "python",
   "name": "python3"
  },
  "language_info": {
   "codemirror_mode": {
    "name": "ipython",
    "version": 3
   },
   "file_extension": ".py",
   "mimetype": "text/x-python",
   "name": "python",
   "nbconvert_exporter": "python",
   "pygments_lexer": "ipython3",
   "version": "3.6.1"
  }
 },
 "nbformat": 4,
 "nbformat_minor": 2
}
