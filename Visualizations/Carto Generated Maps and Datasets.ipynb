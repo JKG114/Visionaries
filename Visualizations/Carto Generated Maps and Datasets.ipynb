{
 "cells": [
  {
   "cell_type": "code",
   "execution_count": null,
   "metadata": {
    "collapsed": true
   },
   "outputs": [],
   "source": [
    "#In this notebook we learned to play around with the Carto python API: cartoframes.\n",
    "#Nothing too exciting here, though we did use the results of the last notebook cell to generate some cool\n",
    "#cartodb animated maps."
   ]
  },
  {
   "cell_type": "code",
   "execution_count": 1,
   "metadata": {
    "collapsed": true
   },
   "outputs": [],
   "source": [
    "from carto.auth import APIKeyAuthClient\n",
    "from carto.exceptions import CartoException\n",
    "from carto.sql import SQLClient\n",
    "import cartoframes\n",
    "import pandas as pd\n",
    "import geopandas as gpd\n",
    "from cartoframes import Layer, BaseMap, styling, QueryLayer\n",
    "import datetime\n"
   ]
  },
  {
   "cell_type": "code",
   "execution_count": 2,
   "metadata": {
    "collapsed": true
   },
   "outputs": [],
   "source": [
    "# Neighborhood Tabulation Area defined neighborhoods (Census tract Stuff)\n",
    "fname = \"nycgiszoningfeatures_201711shp/nynta.shp\"\n",
    "coord_system = {'init': 'epsg:4326'}\n",
    "ntas = gpd.read_file(fname).to_crs(coord_system)\n",
    "#Keep wanted boroughs and Reset index\n",
    "ntas = ntas.loc[ntas['BoroName'].isin(['Queens','Brooklyn', 'Manhattan'])]\n",
    "\n",
    "#Reindex\n",
    "ntas=ntas.reset_index(drop=True)\n",
    "#Rename NTACode to GeoID to merge with economic data(see below)\n",
    "ntas.rename(columns={'NTACode': 'GeoID'}, inplace=True)\n",
    "ntas.rename(columns={'NTAName': 'Neighborhood'}, inplace = True)\n",
    "nta = ntas[['Neighborhood', 'GeoID', 'geometry']]\n",
    "\n",
    "# base = ntas.plot(figsize=(500,20), color='white', edgecolor='black')\n",
    "# plt.show()\n",
    "\n",
    "df = pd.read_csv('Median Income Added/April_2016_MDincome.csv', nrows = 21)\n",
    "start_date_time = pd.to_datetime(df['Date'] + ' ' + df['start_time'])\n",
    "end_date_time = pd.to_datetime(df['Date'] + ' ' + df['stop_time'])\n",
    "\n",
    "df['start_date_time'] = start_date_time\n",
    "df['end_date_time'] = end_date_time\n",
    "# crs = {'init': 'epsg:4326'}\n",
    "# gdf = gpd.GeoDataFrame(df, crs=crs)"
   ]
  },
  {
   "cell_type": "code",
   "execution_count": 3,
   "metadata": {
    "scrolled": true
   },
   "outputs": [
    {
     "name": "stderr",
     "output_type": "stream",
     "text": [
      "/Users/stuartgeman/anaconda/lib/python3.6/site-packages/carto/resources.py:90: FutureWarning: This is part of a non-public CARTO API and may change in the future. Take this into account if you are using this in a production environment\n",
      "  warnings.warn('This is part of a non-public CARTO API and may change in the future. Take this into account if you are using this in a production environment', FutureWarning)\n",
      "/Users/stuartgeman/anaconda/lib/python3.6/site-packages/cartoframes/context.py:267: UserWarning: Table will be named `start_april_median`\n",
      "  warn('Table will be named `{}`'.format(table_name))\n"
     ]
    },
    {
     "name": "stdout",
     "output_type": "stream",
     "text": [
      "The following columns were changed in the CARTO copy of this dataframe:\n",
      "\u001b[1mstart station id\u001b[0m -> \u001b[1mstart_station_id\u001b[0m\n",
      "\u001b[1mstart station name\u001b[0m -> \u001b[1mstart_station_name\u001b[0m\n",
      "\u001b[1mstart station latitude\u001b[0m -> \u001b[1mstart_station_latitude\u001b[0m\n",
      "\u001b[1mstart station longitude\u001b[0m -> \u001b[1mstart_station_longitude\u001b[0m\n",
      "\u001b[1mend station id\u001b[0m -> \u001b[1mend_station_id\u001b[0m\n",
      "\u001b[1mend station name\u001b[0m -> \u001b[1mend_station_name\u001b[0m\n",
      "\u001b[1mend station latitude\u001b[0m -> \u001b[1mend_station_latitude\u001b[0m\n",
      "\u001b[1mend station longitude\u001b[0m -> \u001b[1mend_station_longitude\u001b[0m\n",
      "\u001b[1mbirth year\u001b[0m -> \u001b[1mbirth_year\u001b[0m\n",
      "\u001b[1mDate\u001b[0m -> \u001b[1mdate\u001b[0m\n",
      "\u001b[1mTime\u001b[0m -> \u001b[1mtime\u001b[0m\n",
      "\u001b[1mTempF\u001b[0m -> \u001b[1mtempf\u001b[0m\n",
      "\u001b[1mWeatherDesc\u001b[0m -> \u001b[1mweatherdesc\u001b[0m\n",
      "\u001b[1mWindSpeedMiles\u001b[0m -> \u001b[1mwindspeedmiles\u001b[0m\n",
      "\u001b[1mDay\u001b[0m -> \u001b[1mday\u001b[0m\n",
      "\u001b[1mstart point\u001b[0m -> \u001b[1mstart_point\u001b[0m\n",
      "\u001b[1mend point\u001b[0m -> \u001b[1mend_point\u001b[0m\n",
      "\u001b[1mstart neighborhood\u001b[0m -> \u001b[1mstart_neighborhood\u001b[0m\n",
      "\u001b[1mstart borough\u001b[0m -> \u001b[1mstart_borough\u001b[0m\n",
      "\u001b[1mstart median income\u001b[0m -> \u001b[1mstart_median_income\u001b[0m\n",
      "\u001b[1mend neighborhood\u001b[0m -> \u001b[1mend_neighborhood\u001b[0m\n",
      "\u001b[1mend borough\u001b[0m -> \u001b[1mend_borough\u001b[0m\n",
      "\u001b[1mend median income\u001b[0m -> \u001b[1mend_median_income\u001b[0m\n",
      "Table successfully written to CARTO: https://jgeman.carto.com/dataset/start_april_median\n",
      "The following columns were changed in the CARTO copy of this dataframe:\n",
      "\u001b[1mstart station id\u001b[0m -> \u001b[1mstart_station_id\u001b[0m\n",
      "\u001b[1mstart station name\u001b[0m -> \u001b[1mstart_station_name\u001b[0m\n",
      "\u001b[1mstart station latitude\u001b[0m -> \u001b[1mstart_station_latitude\u001b[0m\n",
      "\u001b[1mstart station longitude\u001b[0m -> \u001b[1mstart_station_longitude\u001b[0m\n",
      "\u001b[1mend station id\u001b[0m -> \u001b[1mend_station_id\u001b[0m\n",
      "\u001b[1mend station name\u001b[0m -> \u001b[1mend_station_name\u001b[0m\n",
      "\u001b[1mend station latitude\u001b[0m -> \u001b[1mend_station_latitude\u001b[0m\n",
      "\u001b[1mend station longitude\u001b[0m -> \u001b[1mend_station_longitude\u001b[0m\n",
      "\u001b[1mbirth year\u001b[0m -> \u001b[1mbirth_year\u001b[0m\n",
      "\u001b[1mDate\u001b[0m -> \u001b[1mdate\u001b[0m\n",
      "\u001b[1mTime\u001b[0m -> \u001b[1mtime\u001b[0m\n",
      "\u001b[1mTempF\u001b[0m -> \u001b[1mtempf\u001b[0m\n",
      "\u001b[1mWeatherDesc\u001b[0m -> \u001b[1mweatherdesc\u001b[0m\n",
      "\u001b[1mWindSpeedMiles\u001b[0m -> \u001b[1mwindspeedmiles\u001b[0m\n",
      "\u001b[1mDay\u001b[0m -> \u001b[1mday\u001b[0m\n",
      "\u001b[1mstart point\u001b[0m -> \u001b[1mstart_point\u001b[0m\n",
      "\u001b[1mend point\u001b[0m -> \u001b[1mend_point\u001b[0m\n",
      "\u001b[1mstart neighborhood\u001b[0m -> \u001b[1mstart_neighborhood\u001b[0m\n",
      "\u001b[1mstart borough\u001b[0m -> \u001b[1mstart_borough\u001b[0m\n",
      "\u001b[1mstart median income\u001b[0m -> \u001b[1mstart_median_income\u001b[0m\n",
      "\u001b[1mend neighborhood\u001b[0m -> \u001b[1mend_neighborhood\u001b[0m\n",
      "\u001b[1mend borough\u001b[0m -> \u001b[1mend_borough\u001b[0m\n",
      "\u001b[1mend median income\u001b[0m -> \u001b[1mend_median_income\u001b[0m\n"
     ]
    },
    {
     "name": "stderr",
     "output_type": "stream",
     "text": [
      "/Users/stuartgeman/anaconda/lib/python3.6/site-packages/cartoframes/context.py:267: UserWarning: Table will be named `end_april_median`\n",
      "  warn('Table will be named `{}`'.format(table_name))\n"
     ]
    },
    {
     "name": "stdout",
     "output_type": "stream",
     "text": [
      "Table successfully written to CARTO: https://jgeman.carto.com/dataset/end_april_median\n",
      "The following columns were changed in the CARTO copy of this dataframe:\n",
      "\u001b[1mNeighborhood\u001b[0m -> \u001b[1mneighborhood\u001b[0m\n",
      "\u001b[1mGeoID\u001b[0m -> \u001b[1mgeoid\u001b[0m\n"
     ]
    },
    {
     "name": "stderr",
     "output_type": "stream",
     "text": [
      "/Users/stuartgeman/anaconda/lib/python3.6/site-packages/cartoframes/context.py:267: UserWarning: Table will be named `nta`\n",
      "  warn('Table will be named `{}`'.format(table_name))\n"
     ]
    },
    {
     "name": "stdout",
     "output_type": "stream",
     "text": [
      "Table successfully written to CARTO: https://jgeman.carto.com/dataset/nta\n"
     ]
    },
    {
     "data": {
      "text/html": [
       "<iframe srcdoc=\"<!DOCTYPE html>\n",
       "<html>\n",
       "  <head>\n",
       "    <title>Carto</title>\n",
       "    <meta name='viewport' content='initial-scale=1.0, user-scalable=no' />\n",
       "    <meta http-equiv='content-type' content='text/html; charset=UTF-8' />\n",
       "    <link rel='shortcut icon' href='http://cartodb.com/assets/favicon.ico' />\n",
       "\n",
       "    <style>\n",
       "     html, body, #map {\n",
       "       height: 100%;\n",
       "       padding: 0;\n",
       "       margin: 0;\n",
       "     }\n",
       "     #zoom-center {\n",
       "       position: absolute;\n",
       "       right: 0;\n",
       "       top: 0;\n",
       "       background-color: rgba(255, 255, 255, 0.7);\n",
       "       width: 240px;\n",
       "       z-index: 100;\n",
       "       padding: 4px;\n",
       "     }\n",
       "    </style>\n",
       "\n",
       "    <link rel='stylesheet' href='https://cartodb-libs.global.ssl.fastly.net/cartodb.js/v3/3.15/themes/css/cartodb.css' />\n",
       "  </head>\n",
       "  <body>\n",
       "    <div id='zoom-center'>\n",
       "      zoom=<span id='zoom'>4</span>,\n",
       "      lng=<span id='lon'>No data</span>, lat=<span id='lat'>No data</span>\n",
       "    </div>\n",
       "    <div id='map'></div>\n",
       "    <script src='https://cartodb-libs.global.ssl.fastly.net/cartodb.js/v3/3.15/cartodb.js'></script>\n",
       "\n",
       "    <script>\n",
       "     const config  = {&quot;user_name&quot;: &quot;jgeman&quot;, &quot;maps_api_template&quot;: &quot;https://jgeman.carto.com&quot;, &quot;sql_api_template&quot;: &quot;https://jgeman.carto.com&quot;, &quot;tiler_protocol&quot;: &quot;https&quot;, &quot;tiler_domain&quot;: &quot;carto.com&quot;, &quot;tiler_port&quot;: &quot;80&quot;, &quot;type&quot;: &quot;namedmap&quot;, &quot;named_map&quot;: {&quot;name&quot;: &quot;cartoframes_ver20170406_layers3_time0_baseid2_labels0_zoom0&quot;, &quot;params&quot;: {&quot;basemap_url&quot;: &quot;https://cartodb-basemaps-{s}.global.ssl.fastly.net/rastertiles/voyager_labels_under/{z}/{x}/{y}.png&quot;, &quot;cartocss_0&quot;: &quot;#layer {  polygon-fill: #C0C0C0; polygon-opacity: 0.9; polygon-gamma: 0.5; line-color: #FFF; line-width: 0.5; line-opacity: 0.25; line-comp-op: hard-light;}&quot;, &quot;sql_0&quot;: &quot;SELECT * FROM NTA&quot;, &quot;cartocss_1&quot;: &quot;#layer {  marker-width: 10; marker-fill: #52BCA3; marker-fill-opacity: 1; marker-allow-overlap: true; marker-line-width: 0.5; marker-line-color: #FFF; marker-line-opacity: 1;}&quot;, &quot;sql_1&quot;: &quot;SELECT * FROM Start_April_Median&quot;, &quot;cartocss_2&quot;: &quot;#layer {  marker-width: 10; marker-fill: #99C945; marker-fill-opacity: 1; marker-allow-overlap: true; marker-line-width: 0.5; marker-line-color: #FFF; marker-line-opacity: 1;}&quot;, &quot;sql_2&quot;: &quot;SELECT * FROM End_April_Median&quot;, &quot;west&quot;: -74.0477296269704, &quot;south&quot;: 40.5418339599504, &quot;east&quot;: -73.7000090632105, &quot;north&quot;: 40.8790380468047}}};\n",
       "     const bounds  = [[40.8790380468047, -73.7000090632105], [40.5418339599504, -74.0477296269704]];\n",
       "     const options = {&quot;filter&quot;: [&quot;mapnik&quot;, &quot;torque&quot;], &quot;https&quot;: true};\n",
       "\n",
       "     const adjustLongitude = (lng) => (\n",
       "       lng - ((Math.ceil((lng + 180) / 360) - 1) * 360)\n",
       "     );\n",
       "     const map = L.map('map', {\n",
       "       zoom: 3,\n",
       "       center: [0, 0],\n",
       "     });\n",
       "\n",
       "     if (L.Browser.retina) {\n",
       "         var basemap = config.named_map.params.basemap_url.replace('.png', '@2x.png');\n",
       "     } else {\n",
       "         var basemap = config.named_map.params.basemap_url;\n",
       "     }\n",
       "     L.tileLayer(basemap, {\n",
       "         attribution: &quot;&copy; <a href=\\&quot;http://www.openstreetmap.org/copyright\\&quot;>OpenStreetMap</a>&quot;\n",
       "     }).addTo(map);\n",
       "     const updateMapInfo = () => {\n",
       "       $('#zoom').text(map.getZoom());\n",
       "       $('#lat').text(map.getCenter().lat.toFixed(4));\n",
       "       $('#lon').text(adjustLongitude(map.getCenter().lng).toFixed(4));\n",
       "     };\n",
       "\n",
       "     cartodb.createLayer(map, config, options)\n",
       "            .addTo(map)\n",
       "            .done((layer) => {\n",
       "              if (bounds.length) {\n",
       "                map.fitBounds(bounds);\n",
       "              }\n",
       "              updateMapInfo();\n",
       "              map.on('move', () => {\n",
       "                updateMapInfo();\n",
       "              });\n",
       "            })\n",
       "            .error((err) => {\n",
       "              console.log('ERROR: ', err);\n",
       "            });\n",
       "    </script>\n",
       "\n",
       "  </body>\n",
       "</html>\n",
       "\" width=800 height=400>  Preview image: <img src=\"https://jgeman.carto.com/api/v1/map/static/named/cartoframes_ver20170406_layers3_time0_baseid2_labels0_zoom0/800/400.png?config=%7B%22basemap_url%22%3A+%22https%3A%2F%2Fcartodb-basemaps-%7Bs%7D.global.ssl.fastly.net%2Frastertiles%2Fvoyager_labels_under%2F%7Bz%7D%2F%7Bx%7D%2F%7By%7D.png%22%2C+%22cartocss_0%22%3A+%22%23layer+%7B++polygon-fill%3A+%23C0C0C0%3B+polygon-opacity%3A+0.9%3B+polygon-gamma%3A+0.5%3B+line-color%3A+%23FFF%3B+line-width%3A+0.5%3B+line-opacity%3A+0.25%3B+line-comp-op%3A+hard-light%3B%7D%22%2C+%22sql_0%22%3A+%22SELECT+%2A+FROM+NTA%22%2C+%22cartocss_1%22%3A+%22%23layer+%7B++marker-width%3A+10%3B+marker-fill%3A+%2352BCA3%3B+marker-fill-opacity%3A+1%3B+marker-allow-overlap%3A+true%3B+marker-line-width%3A+0.5%3B+marker-line-color%3A+%23FFF%3B+marker-line-opacity%3A+1%3B%7D%22%2C+%22sql_1%22%3A+%22SELECT+%2A+FROM+Start_April_Median%22%2C+%22cartocss_2%22%3A+%22%23layer+%7B++marker-width%3A+10%3B+marker-fill%3A+%2399C945%3B+marker-fill-opacity%3A+1%3B+marker-allow-overlap%3A+true%3B+marker-line-width%3A+0.5%3B+marker-line-color%3A+%23FFF%3B+marker-line-opacity%3A+1%3B%7D%22%2C+%22sql_2%22%3A+%22SELECT+%2A+FROM+End_April_Median%22%7D&anti_cache=0.461615647744544&bbox=-74.0477296269704%2C40.5418339599504%2C-73.7000090632105%2C40.8790380468047\" /></iframe>"
      ],
      "text/plain": [
       "<IPython.core.display.HTML object>"
      ]
     },
     "execution_count": 3,
     "metadata": {},
     "output_type": "execute_result"
    }
   ],
   "source": [
    "\n",
    "cc = cartoframes.CartoContext(base_url='https://jgeman.carto.com/',\n",
    "                              api_key='1f4153a8667cb0f17bfe21bc1d2ccd639304547f')\n",
    "cc.write(df, 'Start April Median',\n",
    "         content_guessing=True,\n",
    "         create_vis = True,\n",
    "         lnglat=('start_station_longitude', 'start_station_latitude'),\n",
    "         overwrite=True)\n",
    "\n",
    "cc.write(df, 'End April Median',\n",
    "         content_guessing=True,\n",
    "         lnglat=('end_station_longitude', 'end_station_latitude'),\n",
    "         overwrite=True)\n",
    "\n",
    "cc.write(nta, 'NTA',\n",
    "        content_guessing= True,\n",
    "        encode_geom = True,\n",
    "        overwrite = True)\n",
    "\n",
    "cc.map(layers=[Layer('NTA', color='#C0C0C0'),Layer('Start_April_Median'),\n",
    "               Layer('End_April_Median')],\n",
    "       interactive=True)"
   ]
  },
  {
   "cell_type": "code",
   "execution_count": 4,
   "metadata": {},
   "outputs": [
    {
     "data": {
      "text/html": [
       "<h1>Hello, world!</h1>"
      ],
      "text/plain": [
       "<IPython.core.display.HTML object>"
      ]
     },
     "metadata": {},
     "output_type": "display_data"
    }
   ],
   "source": [
    "from IPython.core.display import display, HTML\n",
    "display(HTML('<h1>Hello, world!</h1>'))"
   ]
  },
  {
   "cell_type": "code",
   "execution_count": 17,
   "metadata": {},
   "outputs": [
    {
     "data": {
      "text/html": [
       "<a href=\"file:///Users/stuartgeman/Desktop/poop.html>link</a>"
      ],
      "text/plain": [
       "<IPython.core.display.HTML object>"
      ]
     },
     "execution_count": 17,
     "metadata": {},
     "output_type": "execute_result"
    }
   ],
   "source": [
    "from IPython.core.display import HTML\n",
    "HTML('<a href=\"file:///Users/stuartgeman/Desktop/poop.html>link</a>')"
   ]
  },
  {
   "cell_type": "markdown",
   "metadata": {},
   "source": [
    "[link text](./poop.html)"
   ]
  },
  {
   "cell_type": "code",
   "execution_count": 19,
   "metadata": {},
   "outputs": [
    {
     "ename": "TypeError",
     "evalue": "__init__() got an unexpected keyword argument 'type'",
     "output_type": "error",
     "traceback": [
      "\u001b[0;31m---------------------------------------------------------------------------\u001b[0m",
      "\u001b[0;31mTypeError\u001b[0m                                 Traceback (most recent call last)",
      "\u001b[0;32m<ipython-input-19-2e6c90e61b7b>\u001b[0m in \u001b[0;36m<module>\u001b[0;34m()\u001b[0m\n\u001b[1;32m      5\u001b[0m     \u001b[0mSELECT\u001b[0m \u001b[0;34m*\u001b[0m\u001b[0;34m,\u001b[0m \u001b[0;34m'end'\u001b[0m \u001b[0;32mas\u001b[0m \u001b[0mstation_type\u001b[0m \u001b[0mFROM\u001b[0m \u001b[0mEnd_April_Median\u001b[0m\u001b[0;34m\u001b[0m\u001b[0m\n\u001b[1;32m      6\u001b[0m ''', type = 'torque',\n\u001b[0;32m----> 7\u001b[0;31m      color='station_type'))\n\u001b[0m",
      "\u001b[0;31mTypeError\u001b[0m: __init__() got an unexpected keyword argument 'type'"
     ]
    }
   ],
   "source": [
    "from cartoframes import QueryLayer\n",
    "cc.map(layers=QueryLayer('''\n",
    "    SELECT *, 'start' as station_type FROM Start_April_Median\n",
    "    UNION ALL\n",
    "    SELECT *, 'end' as station_type FROM End_April_Median\n",
    "''', type = 'torque',\n",
    "     color='station_type'))"
   ]
  },
  {
   "cell_type": "code",
   "execution_count": null,
   "metadata": {
    "collapsed": true
   },
   "outputs": [],
   "source": []
  },
  {
   "cell_type": "code",
   "execution_count": 14,
   "metadata": {},
   "outputs": [
    {
     "name": "stderr",
     "output_type": "stream",
     "text": [
      "/Users/stuartgeman/anaconda/lib/python3.6/site-packages/carto/resources.py:90: FutureWarning: This is part of a non-public CARTO API and may change in the future. Take this into account if you are using this in a production environment\n",
      "  warnings.warn('This is part of a non-public CARTO API and may change in the future. Take this into account if you are using this in a production environment', FutureWarning)\n",
      "/Users/stuartgeman/anaconda/lib/python3.6/site-packages/cartoframes/context.py:267: UserWarning: Table will be named `_88_morning_commute_april`\n",
      "  warn('Table will be named `{}`'.format(table_name))\n"
     ]
    },
    {
     "name": "stdout",
     "output_type": "stream",
     "text": [
      "The following columns were changed in the CARTO copy of this dataframe:\n",
      "\u001b[1mstart station id\u001b[0m -> \u001b[1mstart_station_id\u001b[0m\n",
      "\u001b[1mstart station name\u001b[0m -> \u001b[1mstart_station_name\u001b[0m\n",
      "\u001b[1mstart station latitude\u001b[0m -> \u001b[1mstart_station_latitude\u001b[0m\n",
      "\u001b[1mstart station longitude\u001b[0m -> \u001b[1mstart_station_longitude\u001b[0m\n",
      "\u001b[1mend station id\u001b[0m -> \u001b[1mend_station_id\u001b[0m\n",
      "\u001b[1mend station name\u001b[0m -> \u001b[1mend_station_name\u001b[0m\n",
      "\u001b[1mend station latitude\u001b[0m -> \u001b[1mend_station_latitude\u001b[0m\n",
      "\u001b[1mend station longitude\u001b[0m -> \u001b[1mend_station_longitude\u001b[0m\n",
      "\u001b[1mbirth year\u001b[0m -> \u001b[1mbirth_year\u001b[0m\n",
      "\u001b[1mstart point\u001b[0m -> \u001b[1mstart_point\u001b[0m\n",
      "\u001b[1mend point\u001b[0m -> \u001b[1mend_point\u001b[0m\n",
      "\u001b[1mstart neighborhood\u001b[0m -> \u001b[1mstart_neighborhood\u001b[0m\n",
      "\u001b[1mstart borough\u001b[0m -> \u001b[1mstart_borough\u001b[0m\n",
      "\u001b[1mstart median income\u001b[0m -> \u001b[1mstart_median_income\u001b[0m\n",
      "\u001b[1mend neighborhood\u001b[0m -> \u001b[1mend_neighborhood\u001b[0m\n",
      "\u001b[1mend borough\u001b[0m -> \u001b[1mend_borough\u001b[0m\n",
      "\u001b[1mend median income\u001b[0m -> \u001b[1mend_median_income\u001b[0m\n",
      "Table successfully written to CARTO: https://jgeman.carto.com/dataset/_88_morning_commute_april\n"
     ]
    }
   ],
   "source": [
    "# Neighborhood Tabulation Area defined neighborhoods (Census tract Stuff)\n",
    "fname = \"nycgiszoningfeatures_201711shp/nynta.shp\"\n",
    "coord_system = {'init': 'epsg:4326'}\n",
    "ntas = gpd.read_file(fname).to_crs(coord_system)\n",
    "#Keep wanted boroughs and Reset index\n",
    "ntas = ntas.loc[ntas['BoroName'].isin(['Queens','Brooklyn', 'Manhattan'])]\n",
    "\n",
    "#Reindex\n",
    "ntas=ntas.reset_index(drop=True)\n",
    "#Rename NTACode to GeoID to merge with economic data(see below)\n",
    "ntas.rename(columns={'NTACode': 'GeoID'}, inplace=True)\n",
    "ntas.rename(columns={'NTAName': 'Neighborhood'}, inplace = True)\n",
    "nta = ntas[['Neighborhood', 'GeoID', 'geometry']]\n",
    "\n",
    "# base = ntas.plot(figsize=(500,20), color='white', edgecolor='black')\n",
    "# plt.show()\n",
    "\n",
    "#A dataframe with young people(born after 1988) going to to work in the morning \n",
    "df = pd.read_csv('Income and Bike Id/april_med_bike_id.csv')\n",
    "df = df[(df['time'] >= 600) & (df['time'] <=900) & (df['birth year'] >= 1988.0) & (df['date']== '2016-04-01')]\n",
    "\n",
    "#Create datetime columns so you can animate your maps based on Carto's required date/time format\n",
    "start_date_time = pd.to_datetime(df['date'] + ' ' + df['start_time'])\n",
    "end_date_time = pd.to_datetime(df['date'] + ' ' + df['stop_time'])\n",
    "\n",
    "df['start_date_time'] = start_date_time\n",
    "df['end_date_time'] = end_date_time\n",
    "# crs = {'init': 'epsg:4326'}\n",
    "# gdf = gpd.GeoDataFrame(df, crs=crs)\n",
    "\n",
    "\n",
    "cc = cartoframes.CartoContext(base_url='https://jgeman.carto.com/',\n",
    "                              api_key='1f4153a8667cb0f17bfe21bc1d2ccd639304547f')\n",
    "\n",
    "cc.write(df, '88+ Morning Commute April',\n",
    "         content_guessing=True,\n",
    "         create_vis = True,\n",
    "         lnglat=('start_station_longitude', 'start_station_latitude'),\n",
    "         overwrite=True)"
   ]
  },
  {
   "cell_type": "code",
   "execution_count": null,
   "metadata": {
    "collapsed": true
   },
   "outputs": [],
   "source": []
  }
 ],
 "metadata": {
  "kernelspec": {
   "display_name": "Python 3",
   "language": "python",
   "name": "python3"
  },
  "language_info": {
   "codemirror_mode": {
    "name": "ipython",
    "version": 3
   },
   "file_extension": ".py",
   "mimetype": "text/x-python",
   "name": "python",
   "nbconvert_exporter": "python",
   "pygments_lexer": "ipython3",
   "version": "3.6.3"
  }
 },
 "nbformat": 4,
 "nbformat_minor": 2
}
