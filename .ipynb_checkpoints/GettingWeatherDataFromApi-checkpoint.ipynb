{
 "cells": [
  {
   "cell_type": "code",
   "execution_count": 1,
   "metadata": {
    "collapsed": true
   },
   "outputs": [],
   "source": [
    "import pandas as pd\n",
    "import requests\n"
   ]
  },
  {
   "cell_type": "code",
   "execution_count": 19,
   "metadata": {
    "collapsed": true
   },
   "outputs": [],
   "source": [
    "#token='SEUXAdAodDpSGGrZAatOpqkCgOHHigpF'\n",
    "#url = \"http://www.ncdc.noaa.gov/cdo-web/api/v2/data?datasetid=GHCNDMS&locationid=ZIP:28801&startdate=2016-01-29&enddate=2016-01-31&limit=50\"\n",
    "#headers = {'token': 'SEUXAdAodDpSGGrZAatOpqkCgOHHigpF'}\n",
    "#response = requests.get(url, headers = headers)\n",
    "#data = response.json()"
   ]
  },
  {
   "cell_type": "code",
   "execution_count": 20,
   "metadata": {},
   "outputs": [
    {
     "data": {
      "text/plain": [
       "{}"
      ]
     },
     "execution_count": 20,
     "metadata": {},
     "output_type": "execute_result"
    }
   ],
   "source": [
    "#Data from https://developer.worldweatheronline.com/premium-api-explorer.aspx"
   ]
  },
  {
   "cell_type": "code",
   "execution_count": 24,
   "metadata": {},
   "outputs": [],
   "source": [
    "#Dec\n",
    "newtoken='902786b28aa449ea80c01959171511'\n",
    "\n",
    "url='http://api.worldweatheronline.com/premium/v1/past-weather.ashx?key=902786b28aa449ea80c01959171511&q=New York&format=json&date=2016-12-01&enddate=2016-12-31&includelocation=yes&tp=1'\n",
    "response=requests.get(url)\n",
    "dec=response.json()\n"
   ]
  },
  {
   "cell_type": "code",
   "execution_count": 25,
   "metadata": {},
   "outputs": [],
   "source": [
    "#Nov\n",
    "url='http://api.worldweatheronline.com/premium/v1/past-weather.ashx?key=902786b28aa449ea80c01959171511&q=New York&format=json&date=2016-11-01&enddate=2016-11-30&includelocation=yes&tp=1'\n",
    "response=requests.get(url)\n",
    "nov=response.json()"
   ]
  },
  {
   "cell_type": "code",
   "execution_count": 27,
   "metadata": {},
   "outputs": [],
   "source": [
    "#Oct\n",
    "url='http://api.worldweatheronline.com/premium/v1/past-weather.ashx?key=902786b28aa449ea80c01959171511&q=New York&format=json&date=2016-10-01&enddate=2016-10-31&includelocation=yes&tp=1'\n",
    "response=requests.get(url)\n",
    "octo=response.json()"
   ]
  },
  {
   "cell_type": "code",
   "execution_count": 28,
   "metadata": {
    "collapsed": true
   },
   "outputs": [],
   "source": [
    "#Sep\n",
    "url='http://api.worldweatheronline.com/premium/v1/past-weather.ashx?key=902786b28aa449ea80c01959171511&q=New York&format=json&date=2016-09-01&enddate=2016-09-30&includelocation=yes&tp=1'\n",
    "response=requests.get(url)\n",
    "sept=response.json()"
   ]
  },
  {
   "cell_type": "code",
   "execution_count": 29,
   "metadata": {
    "collapsed": true
   },
   "outputs": [],
   "source": [
    "#Aug\n",
    "url='http://api.worldweatheronline.com/premium/v1/past-weather.ashx?key=902786b28aa449ea80c01959171511&q=New York&format=json&date=2016-08-01&enddate=2016-08-31&includelocation=yes&tp=1'\n",
    "response=requests.get(url)\n",
    "aug=response.json()"
   ]
  },
  {
   "cell_type": "code",
   "execution_count": 30,
   "metadata": {
    "collapsed": true
   },
   "outputs": [],
   "source": [
    "#July\n",
    "url='http://api.worldweatheronline.com/premium/v1/past-weather.ashx?key=902786b28aa449ea80c01959171511&q=New York&format=json&date=2016-07-01&enddate=2016-07-31&includelocation=yes&tp=1'\n",
    "response=requests.get(url)\n",
    "jul=response.json()"
   ]
  },
  {
   "cell_type": "code",
   "execution_count": 31,
   "metadata": {
    "collapsed": true
   },
   "outputs": [],
   "source": [
    "#June\n",
    "url='http://api.worldweatheronline.com/premium/v1/past-weather.ashx?key=902786b28aa449ea80c01959171511&q=New York&format=json&date=2016-06-01&enddate=2016-06-30&includelocation=yes&tp=1'\n",
    "response=requests.get(url)\n",
    "jun=response.json()"
   ]
  },
  {
   "cell_type": "code",
   "execution_count": 32,
   "metadata": {
    "collapsed": true
   },
   "outputs": [],
   "source": [
    "#May\n",
    "url='http://api.worldweatheronline.com/premium/v1/past-weather.ashx?key=902786b28aa449ea80c01959171511&q=New York&format=json&date=2016-05-01&enddate=2016-05-31&includelocation=yes&tp=1'\n",
    "response=requests.get(url)\n",
    "may=response.json()"
   ]
  },
  {
   "cell_type": "code",
   "execution_count": 33,
   "metadata": {
    "collapsed": true
   },
   "outputs": [],
   "source": [
    "#April\n",
    "url='http://api.worldweatheronline.com/premium/v1/past-weather.ashx?key=902786b28aa449ea80c01959171511&q=New York&format=json&date=2016-04-01&enddate=2016-04-30&includelocation=yes&tp=1'\n",
    "response=requests.get(url)\n",
    "apr=response.json()"
   ]
  },
  {
   "cell_type": "code",
   "execution_count": 34,
   "metadata": {
    "collapsed": true
   },
   "outputs": [],
   "source": [
    "#March\n",
    "url='http://api.worldweatheronline.com/premium/v1/past-weather.ashx?key=902786b28aa449ea80c01959171511&q=New York&format=json&date=2016-03-01&enddate=2016-03-31&includelocation=yes&tp=1'\n",
    "response=requests.get(url)\n",
    "mar=response.json()"
   ]
  },
  {
   "cell_type": "code",
   "execution_count": 35,
   "metadata": {
    "collapsed": true
   },
   "outputs": [],
   "source": [
    "#Feb\n",
    "url='http://api.worldweatheronline.com/premium/v1/past-weather.ashx?key=902786b28aa449ea80c01959171511&q=New York&format=json&date=2016-02-01&enddate=2016-02-29&includelocation=yes&tp=1'\n",
    "response=requests.get(url)\n",
    "feb=response.json()"
   ]
  },
  {
   "cell_type": "code",
   "execution_count": 36,
   "metadata": {
    "collapsed": true
   },
   "outputs": [],
   "source": [
    "#Jan\n",
    "url='http://api.worldweatheronline.com/premium/v1/past-weather.ashx?key=902786b28aa449ea80c01959171511&q=New York&format=json&date=2016-01-01&enddate=2016-01-31&includelocation=yes&tp=1'\n",
    "response=requests.get(url)\n",
    "jan=response.json()"
   ]
  },
  {
   "cell_type": "code",
   "execution_count": 108,
   "metadata": {},
   "outputs": [
    {
     "data": {
      "text/plain": [
       "'Overcast'"
      ]
     },
     "execution_count": 108,
     "metadata": {},
     "output_type": "execute_result"
    }
   ],
   "source": [
    "jan['data']['weather'][0]['hourly'][0]['weatherDesc'][0]['value']\n",
    "#24 hours in each day of reading"
   ]
  },
  {
   "cell_type": "code",
   "execution_count": 95,
   "metadata": {
    "collapsed": true
   },
   "outputs": [],
   "source": [
    "#Make Emtpy Lists\n"
   ]
  },
  {
   "cell_type": "code",
   "execution_count": 96,
   "metadata": {},
   "outputs": [],
   "source": []
  },
  {
   "cell_type": "code",
   "execution_count": 109,
   "metadata": {},
   "outputs": [],
   "source": [
    "def temp_to_csv(month,name='Month.csv'):\n",
    "    Date=[]\n",
    "    DewPointC=[]\n",
    "    DewPointF=[]\n",
    "    FeelsLikeC=[]\n",
    "    FeelsLikeF=[]\n",
    "    WindChillC=[]\n",
    "    WindChillF=[]\n",
    "    WindGustKmph=[]\n",
    "    WindGustMiles=[]\n",
    "    cloudcover=[]\n",
    "    humidity=[]\n",
    "    precipMM=[]\n",
    "    pressure=[]\n",
    "    tempC=[]\n",
    "    tempF=[]\n",
    "    time=[]\n",
    "    visibility=[]\n",
    "    weatherDesc=[]\n",
    "    winddir16Point=[]\n",
    "    winddirDegree=[]\n",
    "    windspeedKmph=[]\n",
    "    windspeedMiles=[]\n",
    "    for date in month['data']['weather']:\n",
    "        newdate=date['date']\n",
    "        for hour in date['hourly']:\n",
    "            Date.append(newdate)\n",
    "            DewPointC.append(hour['DewPointC'])\n",
    "            DewPointF.append(hour['DewPointF'])\n",
    "            FeelsLikeC.append(hour['FeelsLikeC'])\n",
    "            FeelsLikeF.append(hour['FeelsLikeF'])\n",
    "            WindChillC.append(hour['WindChillC'])\n",
    "            WindChillF.append(hour['WindChillF'])\n",
    "            WindGustKmph.append(hour['WindGustKmph'])\n",
    "            WindGustMiles.append(hour['WindGustMiles'])\n",
    "            cloudcover.append(hour['cloudcover'])\n",
    "            humidity.append(hour['humidity'])\n",
    "            precipMM.append(hour['precipMM'])\n",
    "            pressure.append(hour['pressure'])\n",
    "            tempC.append(hour['tempC'])\n",
    "            tempF.append(hour['tempF'])\n",
    "            time.append(hour['time'])\n",
    "            visibility.append(hour['visibility'])\n",
    "            weatherDesc.append(hour['weatherDesc'][0]['value'])\n",
    "            winddir16Point.append(hour['winddir16Point'])\n",
    "            winddirDegree.append(hour['winddirDegree'])\n",
    "            windspeedKmph.append(hour['windspeedKmph'])\n",
    "            windspeedMiles.append(hour['windspeedMiles'])\n",
    "    monthdata=pd.DataFrame(list(zip(Date,time,DewPointC,DewPointF,FeelsLikeC,FeelsLikeF,WindChillC,WindChillF,WindGustKmph,WindGustMiles,cloudcover,humidity,precipMM,pressure,tempC,tempF,visibility,weatherDesc,winddir16Point,winddirDegree,windspeedKmph,windspeedMiles)),\n",
    "                         columns=['Date','Time','DewPointC','DewPointF','FeelsLikeC','FeelsLikeF','WindChillC','WindChillF','WindGustKmph','WindGustMiles','Cloud_Cover','humidity','PrecipMM','Pressure','TempC','TempF','Visibility','WeatherDesc','Wind_Dir_16_Point','Wind_Dir_Degree','WindSpeedKmph','WindSpeedMiles'])\n",
    "    monthdata.to_csv(name)\n",
    "    return(monthdata)\n"
   ]
  },
  {
   "cell_type": "code",
   "execution_count": 111,
   "metadata": {},
   "outputs": [],
   "source": [
    "months=[jan,feb,mar,apr,may,jun,jul,aug,sept,octo,nov,dec]\n",
    "names=['January_2016_Weather.csv','February_2016_Weather.csv','March_2016_Weather.csv','April_2016_Weather.csv','May_2016_Weather.csv','June_2016_Weather.csv'\n",
    "      ,'July_2016_Weather.csv','August_2016_Weather.csv','September_2016_Weather.csv','October_2016_Weather.csv','November_2016_Weather.csv','December_2016_Weather.csv']\n",
    "for i in range(12):\n",
    "    month=months[i]\n",
    "    name=names[i]\n",
    "    hi=temp_to_csv(month,name)"
   ]
  }
 ],
 "metadata": {
  "kernelspec": {
   "display_name": "Python 3",
   "language": "python",
   "name": "python3"
  },
  "language_info": {
   "codemirror_mode": {
    "name": "ipython",
    "version": 3
   },
   "file_extension": ".py",
   "mimetype": "text/x-python",
   "name": "python",
   "nbconvert_exporter": "python",
   "pygments_lexer": "ipython3",
   "version": "3.6.1"
  }
 },
 "nbformat": 4,
 "nbformat_minor": 2
}
