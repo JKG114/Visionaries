{
 "cells": [
  {
   "cell_type": "code",
   "execution_count": 9,
   "metadata": {
    "collapsed": true
   },
   "outputs": [],
   "source": [
    "import pandas as pd\n",
    "import numpy as np\n",
    "from sklearn import datasets\n",
    "from sklearn.tree import DecisionTreeClassifier\n",
    "from sklearn.neighbors import KNeighborsClassifier\n",
    "from sklearn.svm import SVC\n",
    "from sklearn.ensemble import VotingClassifier\n",
    "from sklearn.linear_model import LogisticRegression\n",
    "from sklearn.naive_bayes import GaussianNB\n",
    "from sklearn.ensemble import RandomForestClassifier\n",
    "from sklearn.ensemble import VotingClassifier"
   ]
  },
  {
   "cell_type": "code",
   "execution_count": 7,
   "metadata": {
    "collapsed": true
   },
   "outputs": [],
   "source": [
    "#Initialize Names for the merge\n",
    "weather_names=['January_2016_Weather.csv','February_2016_Weather.csv','March_2016_Weather.csv','April_2016_Weather.csv','May_2016_Weather.csv','June_2016_Weather.csv'\n",
    "      ,'July_2016_Weather.csv','August_2016_Weather.csv','September_2016_Weather.csv','October_2016_Weather.csv','November_2016_Weather.csv','December_2016_Weather.csv']\n",
    "bike_names=['January_2016_Bike.csv','February_2016_Bike.csv','March_2016_Bike.csv','April_2016_Bike.csv','May_2016_Bike.csv','June_2016_Bike.csv'\n",
    "      ,'July_2016_Bike.csv','August_2016_Bike.csv','September_2016_Bike.csv','October_2016_Bike.csv','November_2016_Bike.csv','December_2016_Bike.csv']\n",
    "merge_names=['January_2016_Bike.csv','February_2016_Bike.csv','March_2016_Bike.csv','April_2016_Bike.csv','May_2016_Bike.csv','June_2016_Bike.csv'\n",
    "      ,'July_2016_Bike.csv','August_2016_Bike.csv','September_2016_Bike.csv','October_2016_Bike.csv','November_2016_Bike.csv','December_2016_Bike.csv']\n",
    "jun_data=pd.read_csv('June_2016_Bike.csv')\n",
    "jun_weather=pd.read_csv('June_2016_Weather.csv')\n",
    "new_df = pd.merge(jun_data, jun_weather,  how='left', left_on=['start_weather_time','start_date'], right_on = ['Time','Date'])\n"
   ]
  },
  {
   "cell_type": "code",
   "execution_count": 13,
   "metadata": {},
   "outputs": [
    {
     "name": "stdout",
     "output_type": "stream",
     "text": [
      "Merged_January_2016_Bike.csvdone\n",
      "Merged_February_2016_Bike.csvdone\n",
      "Merged_March_2016_Bike.csvdone\n",
      "Merged_April_2016_Bike.csvdone\n",
      "Merged_May_2016_Bike.csvdone\n",
      "Merged_June_2016_Bike.csvdone\n",
      "Merged_July_2016_Bike.csvdone\n",
      "Merged_August_2016_Bike.csvdone\n",
      "Merged_September_2016_Bike.csvdone\n",
      "Merged_October_2016_Bike.csvdone\n",
      "Merged_November_2016_Bike.csvdone\n",
      "Merged_December_2016_Bike.csvdone\n"
     ]
    }
   ],
   "source": [
    "#Merge Files\n",
    "for i in range(12):\n",
    "    data=pd.read_csv(bike_names[i])\n",
    "    weather=pd.read_csv(weather_names[i])\n",
    "    new_df=pd.merge(data, weather,  how='left', left_on=['start_weather_time','start_date'], right_on = ['Time','Date'])\n",
    "    name='Merged_' + bike_names[i]\n",
    "    new_df.to_csv(name)\n",
    "    print(name+'done')"
   ]
  },
  {
   "cell_type": "code",
   "execution_count": 20,
   "metadata": {
    "collapsed": true
   },
   "outputs": [],
   "source": [
    "#Assign Hours to the start hour\n",
    "def modify_data(jun_data=jun_data,name='Month.csv'):\n",
    "    jun_data['start_date_no'],jun_data['start_time']=jun_data['starttime'].str.split(' ',1).str\n",
    "    jun_data['stop_date_no'],jun_data['stop_time']=jun_data['stoptime'].str.split(' ',1).str\n",
    "    start_data=[]\n",
    "    end_data=[]\n",
    "    hours=[]\n",
    "    for i in range(len(jun_data)):\n",
    "        start_date=jun_data['start_date_no'][i]\n",
    "        start_date_list=str.split(start_date,'/')\n",
    "        for j in range(2):\n",
    "            if len(start_date_list[j])<2:\n",
    "                start_date_list[j]='0'+start_date_list[j]\n",
    "        start_data.append(start_date_list[2]+'-'+start_date_list[0] + '-'+start_date_list[1])\n",
    "        end_date=jun_data['stop_date_no'][i]\n",
    "        end_date_list=str.split(end_date,'/')\n",
    "        for j in range(2):\n",
    "            if len(end_date_list[j])<2:\n",
    "                end_date_list[j]='0'+end_date_list[j]\n",
    "        end_data.append(end_date_list[2]+'-'+end_date_list[0] + '-'+end_date_list[1])\n",
    "        hour=str.split(jun_data['start_time'][i],':')\n",
    "        if hour[0]=='00':\n",
    "            hours.append('0')\n",
    "        elif hour[0][0]=='0':\n",
    "            hours.append(hour[0][1]+'00')\n",
    "        else:\n",
    "            hours.append(hour[0]+'00')\n",
    "    jun_data['start_date']=pd.Series(start_data).values\n",
    "    jun_data['stop_date']=pd.Series(end_data).values\n",
    "    jun_data['start_weather_time']=pd.Series(hours).values\n",
    "    jun_data=jun_data.drop(['starttime','stoptime','stop_date_no','start_date_no'],1)\n",
    "    jun_data.to_csv(name)\n",
    "    return(jun_data)"
   ]
  }
 ],
 "metadata": {
  "kernelspec": {
   "display_name": "Python 3",
   "language": "python",
   "name": "python3"
  },
  "language_info": {
   "codemirror_mode": {
    "name": "ipython",
    "version": 3
   },
   "file_extension": ".py",
   "mimetype": "text/x-python",
   "name": "python",
   "nbconvert_exporter": "python",
   "pygments_lexer": "ipython3",
   "version": "3.6.1"
  }
 },
 "nbformat": 4,
 "nbformat_minor": 2
}
