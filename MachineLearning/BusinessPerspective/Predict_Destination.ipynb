{
 "cells": [
  {
   "cell_type": "code",
   "execution_count": 1,
   "metadata": {},
   "outputs": [
    {
     "name": "stderr",
     "output_type": "stream",
     "text": [
      "/Users/stuartgeman/anaconda/lib/python3.6/site-packages/sklearn/cross_validation.py:44: DeprecationWarning: This module was deprecated in version 0.18 in favor of the model_selection module into which all the refactored classes and functions are moved. Also note that the interface of the new CV iterators are different from that of this module. This module will be removed in 0.20.\n",
      "  \"This module will be removed in 0.20.\", DeprecationWarning)\n",
      "/Users/stuartgeman/anaconda/lib/python3.6/site-packages/sklearn/grid_search.py:43: DeprecationWarning: This module was deprecated in version 0.18 in favor of the model_selection module into which all the refactored classes and functions are moved. This module will be removed in 0.20.\n",
      "  DeprecationWarning)\n"
     ]
    }
   ],
   "source": [
    "import pandas as pd\n",
    "import geopandas as gpd\n",
    "from shapely.geometry import Point\n",
    "\n",
    "import numpy as np\n",
    "from sklearn import datasets\n",
    "from sklearn.tree import DecisionTreeClassifier\n",
    "from sklearn.neighbors import KNeighborsClassifier\n",
    "from sklearn.svm import SVC\n",
    "from sklearn.ensemble import VotingClassifier\n",
    "from sklearn.linear_model import LogisticRegression\n",
    "from sklearn.naive_bayes import GaussianNB\n",
    "from sklearn.ensemble import RandomForestClassifier\n",
    "from sklearn.ensemble import VotingClassifier\n",
    "from sklearn.grid_search import RandomizedSearchCV\n",
    "from sklearn.cluster import KMeans\n",
    "from sklearn.cluster import DBSCAN\n",
    "from sklearn import metrics\n",
    "from scipy.spatial.distance import cdist\n",
    "import matplotlib.pyplot as plts\n",
    "import time \n",
    "import random"
   ]
  },
  {
   "cell_type": "code",
   "execution_count": 2,
   "metadata": {
    "collapsed": true
   },
   "outputs": [],
   "source": [
    "data=pd.read_csv('Income and Bike Id/july_med_bike_id.csv')"
   ]
  },
  {
   "cell_type": "code",
   "execution_count": 3,
   "metadata": {
    "collapsed": true,
    "scrolled": true
   },
   "outputs": [],
   "source": [
    "#Categorize Borough\n",
    "borough_total=pd.read_csv('Borough_Code.csv')\n",
    "num_borough=len(borough_total)\n",
    "for i in range(num_borough):\n",
    "    data=data.replace(borough_total.iloc[i,1],borough_total.iloc[i,0])\n",
    "\n",
    "#Categorize Neighborhood\n",
    "entries=len(data)\n",
    "nbhd_total=pd.read_csv('Neighborhood_Code.csv')\n",
    "num_nbhd=len(nbhd_total)\n",
    "for i in range(num_nbhd):\n",
    "    data=data.replace(nbhd_total.iloc[i,1],nbhd_total.iloc[i,0])\n",
    "\n",
    "#Categorize UserType\n",
    "user_total=pd.read_csv('User_Code.csv')\n",
    "num_user=len(user_total)\n",
    "for i in range(num_user):\n",
    "    data=data.replace(user_total.iloc[i,1],user_total.iloc[i,0])\n",
    "\n",
    "#Categorize Weather Description\n",
    "weather_total=pd.read_csv('Weather_Code.csv')\n",
    "num_weather=len(weather_total)\n",
    "for i in range(num_weather):\n",
    "    data=data.replace(weather_total.iloc[i,1],weather_total.iloc[i,0])\n",
    "#Drop unwanted columns\n",
    "data=data.drop(labels=drop_names,axis=1)\n",
    "\n",
    "#Fill na's with 0's for income\n",
    "data['start median income']=data['start median income'].fillna(value=0)"
   ]
  },
  {
   "cell_type": "code",
   "execution_count": 4,
   "metadata": {
    "collapsed": true
   },
   "outputs": [],
   "source": [
    "#Fill na's with 0's for income\n",
    "data['start median income']=data['start median income'].fillna(value=0)"
   ]
  },
  {
   "cell_type": "code",
   "execution_count": 11,
   "metadata": {
    "collapsed": true
   },
   "outputs": [],
   "source": [
    "#Train on unfiltered dataset\n",
    "msk = np.random.rand(len(data)) < 0.8\n",
    "\n",
    "train = data[msk]\n",
    "y = np.array(train['end neighborhood'])\n",
    "X = train.drop(['end neighborhood'], axis =1)\n",
    "\n",
    "test = data[~msk]\n",
    "y_test = np.array(test['end neighborhood'])\n",
    "X_test = test.drop('end neighborhood', axis =1)"
   ]
  },
  {
   "cell_type": "code",
   "execution_count": 12,
   "metadata": {},
   "outputs": [
    {
     "data": {
      "text/plain": [
       "0.38308778600040738"
      ]
     },
     "execution_count": 12,
     "metadata": {},
     "output_type": "execute_result"
    }
   ],
   "source": [
    "randtree = RandomForestClassifier(max_depth=None)\n",
    "#params = {'max_depth': [2, 20,], 'n_estimators':[10, 50, 100, 250, 500], 'max_features':[8, 9]}\n",
    "#RFgrid = RandomizedSearchCV(estimator=randtree, param_distributions=params, cv=5, scoring = 'accuracy')\n",
    "#RFgrid.fit(trainnp,predictnp)\n",
    "randtree.fit(X, y)\n",
    "#RandTreeOut=model_to_csv(RFgrid,name='RandomForest.csv')\n",
    "#RFimportances=randtree.feature_importances_\n",
    "\n",
    "#Random Tree on unfiltered data\n",
    "metrics.accuracy_score(y_test,randtree.predict(X_test))"
   ]
  },
  {
   "cell_type": "code",
   "execution_count": 15,
   "metadata": {},
   "outputs": [
    {
     "data": {
      "text/plain": [
       "0.62166356300434511"
      ]
     },
     "execution_count": 15,
     "metadata": {},
     "output_type": "execute_result"
    }
   ],
   "source": [
    "#Random Forest\n",
    "#Train on morning weekdays\n",
    "morning_data = data[(data['time'] >= 600) & (data['time'] <=900) & (data['day'] <=4) &\n",
    "                   (data['gender'] ==2) & (data['birth year'] >= 1988.0)]\n",
    "# morning_data.drop('usertype', axis = 1)\n",
    "msk = np.random.rand(len(morning_data)) < 0.8\n",
    "\n",
    "train = morning_data[msk]\n",
    "y = np.array(train['end neighborhood'])\n",
    "X = train.drop(['end neighborhood'], axis =1)\n",
    "\n",
    "test = morning_data[~msk]\n",
    "y_test = np.array(test['end neighborhood'])\n",
    "X_test = test.drop(['end neighborhood'], axis =1)\n",
    "\n",
    "#Random Fit on morning weekdays \n",
    "randtree = RandomForestClassifier(n_estimators = 160,max_depth=None)\n",
    "randtree.fit(X,y)\n",
    "#Random Tree results on morning weekdays \n",
    "metrics.accuracy_score(y_test,randtree.predict(X_test))"
   ]
  },
  {
   "cell_type": "code",
   "execution_count": 17,
   "metadata": {},
   "outputs": [
    {
     "data": {
      "text/html": [
       "<div>\n",
       "<style>\n",
       "    .dataframe thead tr:only-child th {\n",
       "        text-align: right;\n",
       "    }\n",
       "\n",
       "    .dataframe thead th {\n",
       "        text-align: left;\n",
       "    }\n",
       "\n",
       "    .dataframe tbody tr th {\n",
       "        vertical-align: top;\n",
       "    }\n",
       "</style>\n",
       "<table border=\"1\" class=\"dataframe\">\n",
       "  <thead>\n",
       "    <tr style=\"text-align: right;\">\n",
       "      <th></th>\n",
       "      <th>0</th>\n",
       "    </tr>\n",
       "  </thead>\n",
       "  <tbody>\n",
       "    <tr>\n",
       "      <th>tripduration</th>\n",
       "      <td>0.214694</td>\n",
       "    </tr>\n",
       "    <tr>\n",
       "      <th>start station id</th>\n",
       "      <td>0.087708</td>\n",
       "    </tr>\n",
       "    <tr>\n",
       "      <th>start station latitude</th>\n",
       "      <td>0.114485</td>\n",
       "    </tr>\n",
       "    <tr>\n",
       "      <th>start station longitude</th>\n",
       "      <td>0.102207</td>\n",
       "    </tr>\n",
       "    <tr>\n",
       "      <th>usertype</th>\n",
       "      <td>0.000212</td>\n",
       "    </tr>\n",
       "    <tr>\n",
       "      <th>birth year</th>\n",
       "      <td>0.108038</td>\n",
       "    </tr>\n",
       "    <tr>\n",
       "      <th>gender</th>\n",
       "      <td>0.000000</td>\n",
       "    </tr>\n",
       "    <tr>\n",
       "      <th>time</th>\n",
       "      <td>0.048930</td>\n",
       "    </tr>\n",
       "    <tr>\n",
       "      <th>humidity</th>\n",
       "      <td>0.063308</td>\n",
       "    </tr>\n",
       "    <tr>\n",
       "      <th>tempf</th>\n",
       "      <td>0.060598</td>\n",
       "    </tr>\n",
       "    <tr>\n",
       "      <th>weatherdesc</th>\n",
       "      <td>0.040313</td>\n",
       "    </tr>\n",
       "    <tr>\n",
       "      <th>windspeedmiles</th>\n",
       "      <td>0.045979</td>\n",
       "    </tr>\n",
       "    <tr>\n",
       "      <th>day</th>\n",
       "      <td>0.037995</td>\n",
       "    </tr>\n",
       "    <tr>\n",
       "      <th>start neighborhood</th>\n",
       "      <td>0.030799</td>\n",
       "    </tr>\n",
       "    <tr>\n",
       "      <th>start borough</th>\n",
       "      <td>0.012235</td>\n",
       "    </tr>\n",
       "    <tr>\n",
       "      <th>start median income</th>\n",
       "      <td>0.032497</td>\n",
       "    </tr>\n",
       "  </tbody>\n",
       "</table>\n",
       "</div>"
      ],
      "text/plain": [
       "                                0\n",
       "tripduration             0.214694\n",
       "start station id         0.087708\n",
       "start station latitude   0.114485\n",
       "start station longitude  0.102207\n",
       "usertype                 0.000212\n",
       "birth year               0.108038\n",
       "gender                   0.000000\n",
       "time                     0.048930\n",
       "humidity                 0.063308\n",
       "tempf                    0.060598\n",
       "weatherdesc              0.040313\n",
       "windspeedmiles           0.045979\n",
       "day                      0.037995\n",
       "start neighborhood       0.030799\n",
       "start borough            0.012235\n",
       "start median income      0.032497"
      ]
     },
     "execution_count": 17,
     "metadata": {},
     "output_type": "execute_result"
    }
   ],
   "source": [
    "#insight\n",
    "importances = randtree.feature_importances_\n",
    "columns = data.columns\n",
    "\n",
    "importance_frame = pd.DataFrame(importances, X.columns)\n",
    "importance_frame"
   ]
  },
  {
   "cell_type": "code",
   "execution_count": 18,
   "metadata": {},
   "outputs": [
    {
     "data": {
      "text/plain": [
       "0.51761918862896061"
      ]
     },
     "execution_count": 18,
     "metadata": {},
     "output_type": "execute_result"
    }
   ],
   "source": [
    "#Decision Tree\n",
    "#Train on morning weekdays\n",
    "morning_data = data[(data['time'] >= 600) & (data['time'] <=900) & (data['day'] <=4) &\n",
    "                   (data['gender'] ==2) & (data['birth year'] >= 1988.0)]\n",
    "# morning_data.drop('usertype', axis = 1)\n",
    "msk = np.random.rand(len(morning_data)) < 0.8\n",
    "\n",
    "train = morning_data[msk]\n",
    "y = np.array(train['end neighborhood'])\n",
    "X = train.drop(['end neighborhood'], axis =1)\n",
    "\n",
    "test = morning_data[~msk]\n",
    "y_test = np.array(test['end neighborhood'])\n",
    "X_test = test.drop(['end neighborhood'], axis =1)\n",
    "\n",
    "#Decision Tree Fit on morning weekdays \n",
    "DTC = DecisionTreeClassifier(max_depth=60, min_samples_leaf = 5, min_samples_split = 2)\n",
    "DTC = DTC.fit(X,y)\n",
    "#Decision Tree results on morning weekdays \n",
    "metrics.accuracy_score(y_test,DTC.predict(X_test))"
   ]
  },
  {
   "cell_type": "code",
   "execution_count": 19,
   "metadata": {},
   "outputs": [
    {
     "data": {
      "text/plain": [
       "0.48169014084507045"
      ]
     },
     "execution_count": 19,
     "metadata": {},
     "output_type": "execute_result"
    }
   ],
   "source": [
    "#KNN classifier\n",
    "#Train on morning weekdays\n",
    "morning_data = data[(data['time'] >= 600) & (data['time'] <=900) & (data['day'] <=4) &\n",
    "                   (data['gender'] ==2) & (data['birth year'] >= 1988.0)]\n",
    "# morning_data.drop('usertype', axis = 1)\n",
    "msk = np.random.rand(len(morning_data)) < 0.8\n",
    "\n",
    "train = morning_data[msk]\n",
    "y = np.array(train['end neighborhood'])\n",
    "X = train.drop(['end neighborhood'], axis =1)\n",
    "\n",
    "test = morning_data[~msk]\n",
    "y_test = np.array(test['end neighborhood'])\n",
    "X_test = test.drop(['end neighborhood'], axis =1)\n",
    "\n",
    "#Create KNN classifier\n",
    "neigh = KNeighborsClassifier(n_neighbors = 5, leaf_size = 80, weights = 'distance')\n",
    "neigh.fit(X, y) \n",
    "metrics.accuracy_score(y_test,neigh.predict(X_test))"
   ]
  },
  {
   "cell_type": "code",
   "execution_count": 21,
   "metadata": {},
   "outputs": [
    {
     "data": {
      "text/plain": [
       "0.61224489795918369"
      ]
     },
     "execution_count": 21,
     "metadata": {},
     "output_type": "execute_result"
    }
   ],
   "source": [
    "#Voting Classifier RF and DT\n",
    "#Train on morning weekdays\n",
    "morning_data = data[(data['time'] >= 600) & (data['time'] <=900) & (data['day'] <=4) &\n",
    "                   (data['gender'] ==2) & (data['birth year'] >= 1988.0)]\n",
    "# morning_data.drop('usertype', axis = 1)\n",
    "msk = np.random.rand(len(morning_data)) < 0.8\n",
    "\n",
    "train = morning_data[msk]\n",
    "y = np.array(train['end neighborhood'])\n",
    "X = train.drop(['end neighborhood'], axis =1)\n",
    "\n",
    "test = morning_data[~msk]\n",
    "y_test = np.array(test['end neighborhood'])\n",
    "X_test = test.drop(['end neighborhood'], axis =1)\n",
    "\n",
    "\n",
    "# create classifers for voting classifer\n",
    "RFC = RandomForestClassifier(n_estimators = 160) \n",
    "DTC = DecisionTreeClassifier(max_depth=60, min_samples_leaf = 5, min_samples_split = 2)\n",
    "neigh = KNeighborsClassifier(n_neighbors = 5, leaf_size = 80, weights = 'distance')\n",
    "\n",
    "\n",
    "#Create Voting Classifier\n",
    "eclf = VotingClassifier(estimators=[('RFC', RFC), (\"DT\", DTC), ('neigh', neigh)], voting = 'soft', weights = [2,1,1])\n",
    "eclf.fit(X, y)\n",
    "metrics.accuracy_score(y_test,eclf.predict(X_test))"
   ]
  },
  {
   "cell_type": "code",
   "execution_count": 22,
   "metadata": {},
   "outputs": [
    {
     "name": "stderr",
     "output_type": "stream",
     "text": [
      "/Users/stuartgeman/anaconda/lib/python3.6/site-packages/sklearn/cross_validation.py:552: Warning: The least populated class in y has only 4 members, which is too few. The minimum number of labels for any class cannot be less than n_folds=5.\n",
      "  % (min_labels, self.n_folds)), Warning)\n"
     ]
    },
    {
     "data": {
      "text/plain": [
       "0.62225085910652922"
      ]
     },
     "execution_count": 22,
     "metadata": {},
     "output_type": "execute_result"
    }
   ],
   "source": [
    "#RF GRID TREE\n",
    "#Train on morning weekdays\n",
    "morning_data = data[(data['time'] >= 600) & (data['time'] <=900) & (data['day'] <=4) &\n",
    "                   (data['gender'] ==2)]\n",
    "# morning_data.drop('usertype', axis = 1)\n",
    "msk = np.random.rand(len(morning_data)) < 0.8\n",
    "\n",
    "train = morning_data[msk]\n",
    "y = np.array(train['end neighborhood'])\n",
    "X = train.drop(['end neighborhood'], axis =1)\n",
    "\n",
    "test = morning_data[~msk]\n",
    "y_test = np.array(test['end neighborhood'])\n",
    "X_test = test.drop(['end neighborhood'], axis =1)\n",
    "\n",
    "#Grid tree with params selected below on morning weekdays\n",
    "params = {'max_depth': [2, 20, 40], 'n_estimators':[10, 50, 100, 250, 500], 'max_features':[8, 9]}\n",
    "RFgrid = RandomizedSearchCV(estimator=randtree, param_distributions=params, cv=5, scoring = 'accuracy')\n",
    "RFgrid.fit(X,y)\n",
    "#RandTreeOut=model_to_csv(RFgrid,name='RandomForest.csv')\n",
    "#RFimportances=randtree.feature_importances_\n",
    "#Grid tree results on morning weekdays\n",
    "metrics.accuracy_score(y_test,RFgrid.predict(X_test))"
   ]
  },
  {
   "cell_type": "code",
   "execution_count": 26,
   "metadata": {
    "collapsed": true
   },
   "outputs": [],
   "source": [
    "#Train on Evening Weekdays\n",
    "evening_data = data[(data['time'] >= 1800) & (data['time'] <=2100) & (data['day'] <=4)]\n",
    "msk = np.random.rand(len(evening_data)) < 0.8\n",
    "\n",
    "train = evening_data[msk]\n",
    "y = np.array(train['end neighborhood'])\n",
    "X = train.drop(['end neighborhood'], axis =1)\n",
    "\n",
    "test = evening_data[~msk]\n",
    "y_test = np.array(test['end neighborhood'])\n",
    "X_test = test.drop(['end neighborhood'], axis =1)"
   ]
  },
  {
   "cell_type": "code",
   "execution_count": 27,
   "metadata": {},
   "outputs": [
    {
     "data": {
      "text/plain": [
       "0.36015641513422109"
      ]
     },
     "execution_count": 27,
     "metadata": {},
     "output_type": "execute_result"
    }
   ],
   "source": [
    "randtree = RandomForestClassifier(n_estimators = 160)\n",
    "#params = {'max_depth': [2, 20,], 'n_estimators':[10, 50, 100, 250, 500], 'max_features':[8, 9]}\n",
    "#RFgrid = RandomizedSearchCV(estimator=randtree, param_distributions=params, cv=5, scoring = 'accuracy')\n",
    "#RFgrid.fit(trainnp,predictnp)\n",
    "randtree.fit(X, y)\n",
    "#RandTreeOut=model_to_csv(RFgrid,name='RandomForest.csv')\n",
    "#RFimportances=randtree.feature_importances_\n",
    "metrics.accuracy_score(y_test,randtree.predict(X_test))"
   ]
  },
  {
   "cell_type": "code",
   "execution_count": null,
   "metadata": {
    "collapsed": true
   },
   "outputs": [],
   "source": [
    "#Train on Evening Weekends\n",
    "\n",
    "wknd_evening_data = data[(data['time'] >= 1800) & (data['time'] <=2100) & (data['day'] >4)]\n",
    "msk = np.random.rand(len(wknd_evening_data)) < 0.8\n",
    "\n",
    "train = wknd_evening_data[msk]\n",
    "y = np.array(train['end neighborhood'])\n",
    "X = train.drop(['end neighborhood'], axis =1)\n",
    "\n",
    "test = wknd_evening_data[~msk]\n",
    "y_test = np.array(test['end neighborhood'])\n",
    "X_test = test.drop(['end neighborhood'], axis =1)"
   ]
  },
  {
   "cell_type": "code",
   "execution_count": null,
   "metadata": {
    "collapsed": true
   },
   "outputs": [],
   "source": [
    "randtree = RandomForestClassifier(max_depth=None)\n",
    "#params = {'max_depth': [2, 20,], 'n_estimators':[10, 50, 100, 250, 500], 'max_features':[8, 9]}\n",
    "#RFgrid = RandomizedSearchCV(estimator=randtree, param_distributions=params, cv=5, scoring = 'accuracy')\n",
    "#RFgrid.fit(trainnp,predictnp)\n",
    "randtree.fit(X, y)\n",
    "#RandTreeOut=model_to_csv(RFgrid,name='RandomForest.csv')\n",
    "#RFimportances=randtree.feature_importances_\n",
    "metrics.accuracy_score(y_test,randtree.predict(X_test))"
   ]
  },
  {
   "cell_type": "code",
   "execution_count": null,
   "metadata": {
    "collapsed": true,
    "scrolled": true
   },
   "outputs": [],
   "source": [
    "imp=randtree.feature_importances_\n",
    "features=X.columns\n",
    "pd.DataFrame(imp,features)"
   ]
  },
  {
   "cell_type": "code",
   "execution_count": 28,
   "metadata": {},
   "outputs": [
    {
     "data": {
      "text/plain": [
       "0.37588827782240625"
      ]
     },
     "execution_count": 28,
     "metadata": {},
     "output_type": "execute_result"
    }
   ],
   "source": [
    "# Simply guess the most common end neighborhood for the given start stations on morning weekday results\n",
    "morning_data = data[(data['time'] >= 600) & (data['time'] <=900) & (data['day'] <=4) &\n",
    "                      (data['gender'] == 2) & (data['birth year'] >= 1988.0)]\n",
    "\n",
    "#stations: a dataframe with start station id and end neighborhood\n",
    "stations = pd.DataFrame(morning_data['start station id'])\n",
    "stations['end neighborhood'] = morning_data['end neighborhood']\n",
    "\n",
    "#the set of station ids\n",
    "station_set = set(morning_data['start station id'])\n",
    "\n",
    "# most common neighborhood destination for each station \n",
    "station_id = []\n",
    "frequent_hood = []\n",
    "for i in station_set:\n",
    "    x = stations[(stations['start station id'] ==i)]['end neighborhood']\n",
    "    y = x.value_counts()\n",
    "    station_id.append(i)\n",
    "    frequent_hood.append(y.index[0])\n",
    "    \n",
    "#Create dataframe with above lists (station_ids and most coommon neighborhood visited)\n",
    "station_destination = pd.DataFrame(station_id)\n",
    "station_destination['frequent hood'] = frequent_hood\n",
    "station_destination.columns = ['start station id', 'frequent hood']\n",
    "\n",
    "#Add frequent hood entries to corresponding columns in original data frame\n",
    "poop = morning_data\n",
    "result = pd.merge(poop, station_destination, on='start station id', how='outer')\n",
    "\n",
    "#Result if we just geuss the most frequen neighborhood corresponding to each station\n",
    "metrics.accuracy_score(result['end neighborhood'],result['frequent hood'])"
   ]
  },
  {
   "cell_type": "code",
   "execution_count": 29,
   "metadata": {},
   "outputs": [
    {
     "data": {
      "text/plain": [
       "0.26628400850993661"
      ]
     },
     "execution_count": 29,
     "metadata": {},
     "output_type": "execute_result"
    }
   ],
   "source": [
    "# Simply guess the most common end neighborhood for the given start stations\n",
    "# For unfiltered demographic data\n",
    "\n",
    "#stations: a dataframe with start station id and end neighborhood\n",
    "stations = pd.DataFrame(data['start station id'])\n",
    "stations['end neighborhood'] = data['end neighborhood']\n",
    "\n",
    "#the set of station ids\n",
    "station_set = set(data['start station id'])\n",
    "\n",
    "# most common neighborhood destination for each station \n",
    "station_id = []\n",
    "frequent_hood = []\n",
    "for i in station_set:\n",
    "    x = stations[(stations['start station id'] ==i)]['end neighborhood']\n",
    "    y = x.value_counts()\n",
    "    station_id.append(i)\n",
    "    frequent_hood.append(y.index[0])\n",
    "    \n",
    "#Create dataframe with above lists (station_ids and most coommon neighborhood visited)\n",
    "station_destination = pd.DataFrame(station_id)\n",
    "station_destination['frequent hood'] = frequent_hood\n",
    "station_destination.columns = ['start station id', 'frequent hood']\n",
    "\n",
    "#Add frequent hood entries to corresponding columns in original data frame\n",
    "poop = data\n",
    "result = pd.merge(poop, station_destination, on='start station id', how='outer')\n",
    "\n",
    "#Result if we just geuss the most frequen neighborhood corresponding to each station\n",
    "metrics.accuracy_score(result['end neighborhood'],result['frequent hood'])"
   ]
  },
  {
   "cell_type": "code",
   "execution_count": 18,
   "metadata": {
    "collapsed": true
   },
   "outputs": [],
   "source": [
    "#This time we will test on the three 'summerish' months to see how we do.\n",
    "July = pd.read_csv('Income and Bike Id/july_med_bike_id.csv')\n",
    "August = pd.read_csv('Income and Bike Id/august_med_bike_id.csv')\n",
    "June = pd.read_csv('Income and Bike Id/june_med_bike_id.csv')"
   ]
  },
  {
   "cell_type": "code",
   "execution_count": 19,
   "metadata": {
    "collapsed": true
   },
   "outputs": [],
   "source": [
    "result = pd.concat([June, July, August])"
   ]
  },
  {
   "cell_type": "code",
   "execution_count": null,
   "metadata": {},
   "outputs": [
    {
     "data": {
      "text/html": [
       "<div>\n",
       "<style>\n",
       "    .dataframe thead tr:only-child th {\n",
       "        text-align: right;\n",
       "    }\n",
       "\n",
       "    .dataframe thead th {\n",
       "        text-align: left;\n",
       "    }\n",
       "\n",
       "    .dataframe tbody tr th {\n",
       "        vertical-align: top;\n",
       "    }\n",
       "</style>\n",
       "<table border=\"1\" class=\"dataframe\">\n",
       "  <thead>\n",
       "    <tr style=\"text-align: right;\">\n",
       "      <th></th>\n",
       "      <th>start station id</th>\n",
       "      <th>start station latitude</th>\n",
       "      <th>start station longitude</th>\n",
       "      <th>usertype</th>\n",
       "      <th>birth year</th>\n",
       "      <th>gender</th>\n",
       "      <th>time</th>\n",
       "      <th>humidity</th>\n",
       "      <th>tempf</th>\n",
       "      <th>weatherdesc</th>\n",
       "      <th>windspeedmiles</th>\n",
       "      <th>day</th>\n",
       "      <th>start neighborhood</th>\n",
       "      <th>start borough</th>\n",
       "      <th>end neighborhood</th>\n",
       "      <th>bikeid</th>\n",
       "    </tr>\n",
       "  </thead>\n",
       "  <tbody>\n",
       "    <tr>\n",
       "      <th>0</th>\n",
       "      <td>380</td>\n",
       "      <td>40.734011</td>\n",
       "      <td>-74.002939</td>\n",
       "      <td>0</td>\n",
       "      <td>1972.0</td>\n",
       "      <td>1</td>\n",
       "      <td>0</td>\n",
       "      <td>75</td>\n",
       "      <td>76</td>\n",
       "      <td>15</td>\n",
       "      <td>4</td>\n",
       "      <td>2</td>\n",
       "      <td>27</td>\n",
       "      <td>0</td>\n",
       "      <td>21</td>\n",
       "      <td>19859</td>\n",
       "    </tr>\n",
       "    <tr>\n",
       "      <th>1</th>\n",
       "      <td>3092</td>\n",
       "      <td>40.719009</td>\n",
       "      <td>-73.958525</td>\n",
       "      <td>0</td>\n",
       "      <td>1967.0</td>\n",
       "      <td>1</td>\n",
       "      <td>0</td>\n",
       "      <td>75</td>\n",
       "      <td>76</td>\n",
       "      <td>15</td>\n",
       "      <td>4</td>\n",
       "      <td>2</td>\n",
       "      <td>0</td>\n",
       "      <td>1</td>\n",
       "      <td>0</td>\n",
       "      <td>16233</td>\n",
       "    </tr>\n",
       "    <tr>\n",
       "      <th>2</th>\n",
       "      <td>449</td>\n",
       "      <td>40.764618</td>\n",
       "      <td>-73.987895</td>\n",
       "      <td>0</td>\n",
       "      <td>1989.0</td>\n",
       "      <td>1</td>\n",
       "      <td>0</td>\n",
       "      <td>75</td>\n",
       "      <td>76</td>\n",
       "      <td>15</td>\n",
       "      <td>4</td>\n",
       "      <td>2</td>\n",
       "      <td>21</td>\n",
       "      <td>0</td>\n",
       "      <td>4</td>\n",
       "      <td>22397</td>\n",
       "    </tr>\n",
       "    <tr>\n",
       "      <th>3</th>\n",
       "      <td>522</td>\n",
       "      <td>40.757148</td>\n",
       "      <td>-73.972078</td>\n",
       "      <td>0</td>\n",
       "      <td>1991.0</td>\n",
       "      <td>1</td>\n",
       "      <td>0</td>\n",
       "      <td>75</td>\n",
       "      <td>76</td>\n",
       "      <td>15</td>\n",
       "      <td>4</td>\n",
       "      <td>2</td>\n",
       "      <td>10</td>\n",
       "      <td>0</td>\n",
       "      <td>28</td>\n",
       "      <td>16231</td>\n",
       "    </tr>\n",
       "    <tr>\n",
       "      <th>4</th>\n",
       "      <td>335</td>\n",
       "      <td>40.729039</td>\n",
       "      <td>-73.994046</td>\n",
       "      <td>0</td>\n",
       "      <td>1989.0</td>\n",
       "      <td>1</td>\n",
       "      <td>0</td>\n",
       "      <td>75</td>\n",
       "      <td>76</td>\n",
       "      <td>15</td>\n",
       "      <td>4</td>\n",
       "      <td>2</td>\n",
       "      <td>27</td>\n",
       "      <td>0</td>\n",
       "      <td>27</td>\n",
       "      <td>15400</td>\n",
       "    </tr>\n",
       "  </tbody>\n",
       "</table>\n",
       "</div>"
      ],
      "text/plain": [
       "   start station id  start station latitude  start station longitude  \\\n",
       "0               380               40.734011               -74.002939   \n",
       "1              3092               40.719009               -73.958525   \n",
       "2               449               40.764618               -73.987895   \n",
       "3               522               40.757148               -73.972078   \n",
       "4               335               40.729039               -73.994046   \n",
       "\n",
       "   usertype  birth year  gender  time  humidity  tempf  weatherdesc  \\\n",
       "0         0      1972.0       1     0        75     76           15   \n",
       "1         0      1967.0       1     0        75     76           15   \n",
       "2         0      1989.0       1     0        75     76           15   \n",
       "3         0      1991.0       1     0        75     76           15   \n",
       "4         0      1989.0       1     0        75     76           15   \n",
       "\n",
       "   windspeedmiles  day  start neighborhood  start borough  end neighborhood  \\\n",
       "0               4    2                  27              0                21   \n",
       "1               4    2                   0              1                 0   \n",
       "2               4    2                  21              0                 4   \n",
       "3               4    2                  10              0                28   \n",
       "4               4    2                  27              0                27   \n",
       "\n",
       "   bikeid  \n",
       "0   19859  \n",
       "1   16233  \n",
       "2   22397  \n",
       "3   16231  \n",
       "4   15400  "
      ]
     },
     "execution_count": 21,
     "metadata": {},
     "output_type": "execute_result"
    }
   ],
   "source": [
    "#Columns to drop from the DataFrame\n",
    "drop_names=['tripduration','start station name', 'end station name','end station id','end borough', 'end station latitude', 'end station longitude','start_time', \n",
    "            'stop_time', 'date','start point', 'end point','start median income','end median income', 'bikeid']\n",
    "#Categorize Borough\n",
    "num_borough=len(set(result['start borough']))\n",
    "borough=list(set(result['start borough']))\n",
    "borough_code=[i for i in range(num_borough)]\n",
    "borough_total=pd.DataFrame(borough,borough_code)\n",
    "for i in range(num_borough):\n",
    "    result=result.replace(borough_total[[0]].iloc[i][0],i)\n",
    "    \n",
    "#Categorize Neighborhood\n",
    "entries=len(result)\n",
    "num_nbhd=len(set(result['end neighborhood']))\n",
    "nbhds=list(set(result['end neighborhood']))\n",
    "nbhd_code=[i for i in range(num_nbhd)]\n",
    "nbhd_total=pd.DataFrame(nbhds,nbhd_code)\n",
    "for i in range(num_nbhd):\n",
    "    result=result.replace(nbhd_total[[0]].iloc[i][0],i)\n",
    "\n",
    "#Categorize UserType\n",
    "num_user=len(set(result['usertype']))\n",
    "user_type=list(set(result['usertype']))\n",
    "user_code=[i for i in range(num_user)]\n",
    "user_total=pd.DataFrame(user_type,user_code)\n",
    "for i in range(num_user):\n",
    "    result=result.replace(user_total[[0]].iloc[i][0],i)\n",
    "\n",
    "#Categorize Weather Description\n",
    "num_weather=len(set(result['weatherdesc']))\n",
    "weather_type=list(set(result['weatherdesc']))\n",
    "weather_code=[i for i in range(num_weather)]\n",
    "weather_total=pd.DataFrame(weather_type,weather_code)\n",
    "for i in range(num_weather):\n",
    "    result=result.replace(weather_total[[0]].iloc[i][0],i)\n",
    "    \n",
    "#Drop unwanted columns\n",
    "result=result.drop(labels=drop_names,axis=1)\n",
    "\n",
    "#Fill na's with 0's for income\n",
    "result['start median income'] = result['start median income'].fillna(value=0)\n",
    "result.head()"
   ]
  },
  {
   "cell_type": "code",
   "execution_count": null,
   "metadata": {
    "collapsed": true
   },
   "outputs": [],
   "source": [
    "#Train on unfiltered dataset\n",
    "msk = np.random.rand(len(result)) < 0.8\n",
    "\n",
    "train = result[msk]\n",
    "y = np.array(train['end neighborhood'])\n",
    "X = train.drop(['end neighborhood'], axis =1)\n",
    "\n",
    "test = result[~msk]\n",
    "y_test = np.array(test['end neighborhood'])\n",
    "X_test = test.drop('end neighborhood', axis =1)\n",
    "\n",
    "#Fit randtree \n",
    "randtree = RandomForestClassifier(n_estimators=160)\n",
    "randtree.fit(X,y)\n",
    "\n",
    "#Random Tree results\n",
    "metrics.accuracy_score(y_test,randtree.predict(X_test))"
   ]
  },
  {
   "cell_type": "code",
   "execution_count": null,
   "metadata": {
    "collapsed": true
   },
   "outputs": [],
   "source": [
    "#Random Forest\n",
    "#Train on filtered dataset: morning weekdays\n",
    "morning_data = result[(result['time'] >= 600) & (result['time'] <= 900) & (result['day'] <= 4) \n",
    "                      & (result['gender'] == 2) & (result['birth year'] >= 1988.0)]\n",
    "\n",
    "msk = np.random.rand(len(morning_data)) < 0.8\n",
    "\n",
    "train = morning_data[msk]\n",
    "y = np.array(train['end neighborhood'])\n",
    "X = train.drop(['end neighborhood'], axis =1)\n",
    "\n",
    "test = morning_data[~msk]\n",
    "y_test = np.array(test['end neighborhood'])\n",
    "X_test = test.drop('end neighborhood', axis =1)\n",
    "\n",
    "#Fit randtree \n",
    "randtree = RandomForestClassifier(n_estimators = 160)\n",
    "randtree.fit(X,y)\n",
    "\n",
    "#Random Forest Tree results\n",
    "metrics.accuracy_score(y_test,randtree.predict(X_test))"
   ]
  },
  {
   "cell_type": "code",
   "execution_count": null,
   "metadata": {
    "collapsed": true
   },
   "outputs": [],
   "source": [
    "#KNN classifier\n",
    "#Train on morning weekdays\n",
    "morning_data = result[(result['time'] >= 600) & (result['time'] <= 900) & (result['day'] <= 4) \n",
    "                      & (result['gender'] == 2) & (result['birth year'] >= 1988.0)]\n",
    "\n",
    "# morning_data.drop('usertype', axis = 1)\n",
    "msk = np.random.rand(len(morning_data)) < 0.8\n",
    "\n",
    "train = morning_data[msk]\n",
    "y = np.array(train['end neighborhood'])\n",
    "X = train.drop(['end neighborhood'], axis =1)\n",
    "\n",
    "test = morning_data[~msk]\n",
    "y_test = np.array(test['end neighborhood'])\n",
    "X_test = test.drop(['end neighborhood'], axis =1)\n",
    "\n",
    "#Create KNN classifier\n",
    "neigh = KNeighborsClassifier(n_neighbors = 5, leaf_size = 80, weights = 'distance')\n",
    "neigh.fit(X, y) \n",
    "metrics.accuracy_score(y_test,neigh.predict(X_test))"
   ]
  },
  {
   "cell_type": "code",
   "execution_count": null,
   "metadata": {
    "collapsed": true
   },
   "outputs": [],
   "source": [
    "#Decision Tree\n",
    "#Train on morning weekdays\n",
    "morning_data = result[(result['time'] >= 600) & (result['time'] <= 900) & (result['day'] <= 4) \n",
    "                      & (result['gender'] == 2) & (result['birth year'] >= 1988.0)]\n",
    "# morning_data.drop('usertype', axis = 1)\n",
    "msk = np.random.rand(len(morning_data)) < 0.8\n",
    "\n",
    "train = morning_data[msk]\n",
    "y = np.array(train['end neighborhood'])\n",
    "X = train.drop(['end neighborhood'], axis =1)\n",
    "\n",
    "test = morning_data[~msk]\n",
    "y_test = np.array(test['end neighborhood'])\n",
    "X_test = test.drop(['end neighborhood'], axis =1)\n",
    "\n",
    "#Decision Tree Fit on morning weekdays \n",
    "DTC = DecisionTreeClassifier(max_depth=60, min_samples_leaf = 5, min_samples_split = 2)\n",
    "DTC = DTC.fit(X,y)\n",
    "#Decision Tree results on morning weekdays \n",
    "metrics.accuracy_score(y_test,DTC.predict(X_test))"
   ]
  },
  {
   "cell_type": "code",
   "execution_count": 137,
   "metadata": {},
   "outputs": [
    {
     "data": {
      "text/plain": [
       "0.65596721871265151"
      ]
     },
     "execution_count": 137,
     "metadata": {},
     "output_type": "execute_result"
    }
   ],
   "source": [
    "#Voting Classifier RF and DT and KNN\n",
    "#Train on morning weekdays\n",
    "morning_data = result[(result['time'] >= 600) & (result['time'] <= 900) & (result['day'] <= 4) \n",
    "                      & (result['gender'] == 2) & (result['birth year'] >= 1988.0)]\n",
    "# morning_data.drop('usertype', axis = 1)\n",
    "msk = np.random.rand(len(morning_data)) < 0.8\n",
    "\n",
    "train = morning_data[msk]\n",
    "y = np.array(train['end neighborhood'])\n",
    "X = train.drop(['end neighborhood'], axis =1)\n",
    "\n",
    "test = morning_data[~msk]\n",
    "y_test = np.array(test['end neighborhood'])\n",
    "X_test = test.drop(['end neighborhood'], axis =1)\n",
    "\n",
    "\n",
    "# create classifers for voting classifer\n",
    "RFC = RandomForestClassifier(n_estimators = 160) \n",
    "DTC = DecisionTreeClassifier(max_depth=60, min_samples_leaf = 5, min_samples_split = 2)\n",
    "# neigh = KNeighborsClassifier(n_neighbors = 5, leaf_size = 80, weights = 'distance')\n",
    "\n",
    "\n",
    "#Create Voting Classifier\n",
    "eclf = VotingClassifier(estimators=[('RFC', RFC), (\"DT\", DTC)], voting = 'soft', weights = [2,1.5])\n",
    "eclf.fit(X, y)\n",
    "metrics.accuracy_score(y_test,eclf.predict(X_test))"
   ]
  },
  {
   "cell_type": "code",
   "execution_count": null,
   "metadata": {
    "collapsed": true
   },
   "outputs": [],
   "source": [
    "#Train on filtered dataset: morning weekdays\n",
    "evening_data = result[(result['time'] >= 1500) & (result['time'] <= 1800) & (result['day'] <= 4)]\n",
    "\n",
    "msk = np.random.rand(len(evening_data)) < 0.8\n",
    "\n",
    "train = evening_data[msk]\n",
    "y = np.array(train['end neighborhood'])\n",
    "X = train.drop(['end neighborhood'], axis =1)\n",
    "\n",
    "test = evening_data[~msk]\n",
    "y_test = np.array(test['end neighborhood'])\n",
    "X_test = test.drop('end neighborhood', axis =1)\n",
    "\n",
    "#Fit randtree \n",
    "randtree = RandomForestClassifier(max_depth=None)\n",
    "randtree.fit(X,y)\n",
    "\n",
    "#Random Tree results\n",
    "metrics.accuracy_score(y_test,randtree.predict(X_test))"
   ]
  },
  {
   "cell_type": "code",
   "execution_count": null,
   "metadata": {
    "collapsed": true
   },
   "outputs": [],
   "source": [
    "#This time we will test on the three 'Fallish' months to see how we do.\n",
    "September = pd.read_csv('Income and Bike Id/september_med_bike_id.csv')\n",
    "October = pd.read_csv('Income and Bike Id/october_med_bike_id.csv')\n",
    "November = pd.read_csv('Income and Bike Id/november_med_bike_id.csv')\n",
    "result = pd.concat([September, October, November])"
   ]
  },
  {
   "cell_type": "code",
   "execution_count": null,
   "metadata": {
    "collapsed": true
   },
   "outputs": [],
   "source": [
    "#Columns to drop from the DataFrame\n",
    "drop_names=['tripduration','start station name', 'end station name','end station id','end borough', 'end station latitude', 'end station longitude','start_time', \n",
    "            'stop_time', 'date','start point', 'end point','start median income','end median income', 'bikeid']\n",
    "#Categorize Borough\n",
    "num_borough=len(set(result['start borough']))\n",
    "borough=list(set(result['start borough']))\n",
    "borough_code=[i for i in range(num_borough)]\n",
    "borough_total=pd.DataFrame(borough,borough_code)\n",
    "for i in range(num_borough):\n",
    "    result=result.replace(borough_total[[0]].iloc[i][0],i)\n",
    "    \n",
    "#Categorize Neighborhood\n",
    "entries=len(result)\n",
    "num_nbhd=len(set(result['end neighborhood']))\n",
    "nbhds=list(set(result['end neighborhood']))\n",
    "nbhd_code=[i for i in range(num_nbhd)]\n",
    "nbhd_total=pd.DataFrame(nbhds,nbhd_code)\n",
    "for i in range(num_nbhd):\n",
    "    result=result.replace(nbhd_total[[0]].iloc[i][0],i)\n",
    "\n",
    "#Categorize UserType\n",
    "num_user=len(set(result['usertype']))\n",
    "user_type=list(set(result['usertype']))\n",
    "user_code=[i for i in range(num_user)]\n",
    "user_total=pd.DataFrame(user_type,user_code)\n",
    "for i in range(num_user):\n",
    "    result=result.replace(user_total[[0]].iloc[i][0],i)\n",
    "\n",
    "#Categorize Weather Description\n",
    "num_weather=len(set(result['weatherdesc']))\n",
    "weather_type=list(set(result['weatherdesc']))\n",
    "weather_code=[i for i in range(num_weather)]\n",
    "weather_total=pd.DataFrame(weather_type,weather_code)\n",
    "for i in range(num_weather):\n",
    "    result=result.replace(weather_total[[0]].iloc[i][0],i)\n",
    "    \n",
    "#Drop unwanted columns\n",
    "result=result.drop(labels=drop_names,axis=1)\n",
    "\n",
    "#Fill na's with 0's for income\n",
    "result['start median income']=result['start median income'].fillna(value=0)\n",
    "result.head()"
   ]
  },
  {
   "cell_type": "code",
   "execution_count": null,
   "metadata": {
    "collapsed": true
   },
   "outputs": [],
   "source": [
    "#Random Forest\n",
    "#Train on filtered dataset: morning weekdays\n",
    "morning_data = result[(result['time'] >= 600) & (result['time'] <= 900) & (result['day'] <= 4) \n",
    "                      & (result['gender'] == 2) & (result['birth year'] >= 1988.0)]\n",
    "\n",
    "msk = np.random.rand(len(morning_data)) < 0.8\n",
    "\n",
    "train = morning_data[msk]\n",
    "y = np.array(train['end neighborhood'])\n",
    "X = train.drop(['end neighborhood'], axis =1)\n",
    "\n",
    "test = morning_data[~msk]\n",
    "y_test = np.array(test['end neighborhood'])\n",
    "X_test = test.drop('end neighborhood', axis =1)\n",
    "\n",
    "#Fit randtree \n",
    "randtree = RandomForestClassifier(n_estimators = 160)\n",
    "randtree.fit(X,y)\n",
    "\n",
    "#Random Forest Tree results\n",
    "metrics.accuracy_score(y_test,randtree.predict(X_test))"
   ]
  },
  {
   "cell_type": "code",
   "execution_count": null,
   "metadata": {
    "collapsed": true
   },
   "outputs": [],
   "source": [
    "#This time we will test on the three 'Winterish' months to see how we do.\n",
    "December = pd.read_csv('Income and Bike Id/december_med_bike_id.csv')\n",
    "January = pd.read_csv('Income and Bike Id/january_med_bike_id.csv')\n",
    "February = pd.read_csv('Income and Bike Id/february_med_bike_id.csv')\n",
    "result = pd.concat([December, January, February])"
   ]
  },
  {
   "cell_type": "code",
   "execution_count": null,
   "metadata": {
    "collapsed": true
   },
   "outputs": [],
   "source": [
    "#Columns to drop from the DataFrame\n",
    "drop_names=['tripduration','start station name', 'end station name','end station id','end borough', 'end station latitude', 'end station longitude','start_time', \n",
    "            'stop_time', 'date','start point', 'end point','start median income','end median income', 'bikeid']\n",
    "#Categorize Borough\n",
    "num_borough=len(set(result['start borough']))\n",
    "borough=list(set(result['start borough']))\n",
    "borough_code=[i for i in range(num_borough)]\n",
    "borough_total=pd.DataFrame(borough,borough_code)\n",
    "for i in range(num_borough):\n",
    "    result=result.replace(borough_total[[0]].iloc[i][0],i)\n",
    "    \n",
    "#Categorize Neighborhood\n",
    "entries=len(result)\n",
    "num_nbhd=len(set(result['end neighborhood']))\n",
    "nbhds=list(set(result['end neighborhood']))\n",
    "nbhd_code=[i for i in range(num_nbhd)]\n",
    "nbhd_total=pd.DataFrame(nbhds,nbhd_code)\n",
    "for i in range(num_nbhd):\n",
    "    result=result.replace(nbhd_total[[0]].iloc[i][0],i)\n",
    "\n",
    "#Categorize UserType\n",
    "num_user=len(set(result['usertype']))\n",
    "user_type=list(set(result['usertype']))\n",
    "user_code=[i for i in range(num_user)]\n",
    "user_total=pd.DataFrame(user_type,user_code)\n",
    "for i in range(num_user):\n",
    "    result=result.replace(user_total[[0]].iloc[i][0],i)\n",
    "\n",
    "#Categorize Weather Description\n",
    "num_weather=len(set(result['weatherdesc']))\n",
    "weather_type=list(set(result['weatherdesc']))\n",
    "weather_code=[i for i in range(num_weather)]\n",
    "weather_total=pd.DataFrame(weather_type,weather_code)\n",
    "for i in range(num_weather):\n",
    "    result=result.replace(weather_total[[0]].iloc[i][0],i)\n",
    "    \n",
    "#Drop unwanted columns\n",
    "result=result.drop(labels=drop_names,axis=1)\n",
    "\n",
    "#Fill na's with 0's for income\n",
    "result['start median income']=result['start median income'].fillna(value=0)\n",
    "result.head()"
   ]
  },
  {
   "cell_type": "code",
   "execution_count": null,
   "metadata": {
    "collapsed": true
   },
   "outputs": [],
   "source": [
    "#Random Forest\n",
    "#Train on filtered dataset: morning weekdays\n",
    "morning_data = result[(result['time'] >= 600) & (result['time'] <= 900) & (result['day'] <= 4) \n",
    "                      & (result['gender'] == 2) & (result['birth year'] >= 1988.0)]\n",
    "\n",
    "msk = np.random.rand(len(morning_data)) < 0.8\n",
    "\n",
    "train = morning_data[msk]\n",
    "y = np.array(train['end neighborhood'])\n",
    "X = train.drop(['end neighborhood'], axis =1)\n",
    "\n",
    "test = morning_data[~msk]\n",
    "y_test = np.array(test['end neighborhood'])\n",
    "X_test = test.drop('end neighborhood', axis =1)\n",
    "\n",
    "#Fit randtree \n",
    "randtree = RandomForestClassifier(n_estimators = 160)\n",
    "randtree.fit(X,y)\n",
    "\n",
    "#Random Forest Tree results\n",
    "metrics.accuracy_score(y_test,randtree.predict(X_test))"
   ]
  },
  {
   "cell_type": "code",
   "execution_count": null,
   "metadata": {
    "collapsed": true
   },
   "outputs": [],
   "source": [
    "#This time we will test on the three 'Springish' months to see how we do.\n",
    "March = pd.read_csv('Income and Bike Id/march_med_bike_id.csv')\n",
    "April = pd.read_csv('Income and Bike Id/april_med_bike_id.csv')\n",
    "May = pd.read_csv('Income and Bike Id/may_med_bike_id.csv')\n",
    "result = pd.concat([March, April, May])"
   ]
  },
  {
   "cell_type": "code",
   "execution_count": null,
   "metadata": {
    "collapsed": true
   },
   "outputs": [],
   "source": [
    "#Columns to drop from the DataFrame\n",
    "drop_names=['tripduration','start station name', 'end station name','end station id','end borough', 'end station latitude', 'end station longitude','start_time', \n",
    "            'stop_time', 'date','start point', 'end point','start median income','end median income', 'bikeid']\n",
    "#Categorize Borough\n",
    "num_borough=len(set(result['start borough']))\n",
    "borough=list(set(result['start borough']))\n",
    "borough_code=[i for i in range(num_borough)]\n",
    "borough_total=pd.DataFrame(borough,borough_code)\n",
    "for i in range(num_borough):\n",
    "    result=result.replace(borough_total[[0]].iloc[i][0],i)\n",
    "    \n",
    "#Categorize Neighborhood\n",
    "entries=len(result)\n",
    "num_nbhd=len(set(result['end neighborhood']))\n",
    "nbhds=list(set(result['end neighborhood']))\n",
    "nbhd_code=[i for i in range(num_nbhd)]\n",
    "nbhd_total=pd.DataFrame(nbhds,nbhd_code)\n",
    "for i in range(num_nbhd):\n",
    "    result=result.replace(nbhd_total[[0]].iloc[i][0],i)\n",
    "\n",
    "#Categorize UserType\n",
    "num_user=len(set(result['usertype']))\n",
    "user_type=list(set(result['usertype']))\n",
    "user_code=[i for i in range(num_user)]\n",
    "user_total=pd.DataFrame(user_type,user_code)\n",
    "for i in range(num_user):\n",
    "    result=result.replace(user_total[[0]].iloc[i][0],i)\n",
    "\n",
    "#Categorize Weather Description\n",
    "num_weather=len(set(result['weatherdesc']))\n",
    "weather_type=list(set(result['weatherdesc']))\n",
    "weather_code=[i for i in range(num_weather)]\n",
    "weather_total=pd.DataFrame(weather_type,weather_code)\n",
    "for i in range(num_weather):\n",
    "    result=result.replace(weather_total[[0]].iloc[i][0],i)\n",
    "    \n",
    "#Drop unwanted columns\n",
    "result=result.drop(labels=drop_names,axis=1)\n",
    "\n",
    "#Fill na's with 0's for income\n",
    "result['start median income']=result['start median income'].fillna(value=0)\n",
    "result.head()"
   ]
  },
  {
   "cell_type": "code",
   "execution_count": null,
   "metadata": {
    "collapsed": true
   },
   "outputs": [],
   "source": [
    "#Random Forest\n",
    "#Train on filtered dataset: morning weekdays\n",
    "morning_data = result[(result['time'] >= 600) & (result['time'] <= 900) & (result['day'] <= 4) \n",
    "                      & (result['gender'] == 2) & (result['birth year'] >= 1988.0)]\n",
    "\n",
    "msk = np.random.rand(len(morning_data)) < 0.8\n",
    "\n",
    "train = morning_data[msk]\n",
    "y = np.array(train['end neighborhood'])\n",
    "X = train.drop(['end neighborhood'], axis =1)\n",
    "\n",
    "test = morning_data[~msk]\n",
    "y_test = np.array(test['end neighborhood'])\n",
    "X_test = test.drop('end neighborhood', axis =1)\n",
    "\n",
    "#Fit randtree \n",
    "randtree = RandomForestClassifier(n_estimators = 160)\n",
    "randtree.fit(X,y)\n",
    "\n",
    "#Random Forest Tree results\n",
    "metrics.accuracy_score(y_test,randtree.predict(X_test))"
   ]
  }
 ],
 "metadata": {
  "kernelspec": {
   "display_name": "Python 3",
   "language": "python",
   "name": "python3"
  },
  "language_info": {
   "codemirror_mode": {
    "name": "ipython",
    "version": 3
   },
   "file_extension": ".py",
   "mimetype": "text/x-python",
   "name": "python",
   "nbconvert_exporter": "python",
   "pygments_lexer": "ipython3",
   "version": "3.6.1"
  }
 },
 "nbformat": 4,
 "nbformat_minor": 2
}
